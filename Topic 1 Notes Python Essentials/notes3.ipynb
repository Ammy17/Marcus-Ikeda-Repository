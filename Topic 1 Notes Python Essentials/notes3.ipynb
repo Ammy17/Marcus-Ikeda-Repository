{
 "cells": [
  {
   "cell_type": "code",
   "execution_count": 1,
   "id": "7bbc9b2a",
   "metadata": {},
   "outputs": [
    {
     "name": "stdout",
     "output_type": "stream",
     "text": [
      "70 Pitt Street\n"
     ]
    }
   ],
   "source": [
    "address = \"70 Pitt Street\"\n",
    "street = \"pitt street\"\n",
    "num = 70\n",
    "street = \"pitt street\"\n",
    "num = \"70\"\n",
    "new_street = num+\" \"+street\n",
    "print(new_street.title())"
   ]
  },
  {
   "cell_type": "code",
   "execution_count": 2,
   "id": "b017c212",
   "metadata": {},
   "outputs": [
    {
     "name": "stdout",
     "output_type": "stream",
     "text": [
      "2\n"
     ]
    }
   ],
   "source": [
    "data = \"70 Pitt Street NSW 1234\"\n",
    "data_list = data.split()\n",
    "count = 0\n",
    "for str in data_list:\n",
    "    if str.isdigit():\n",
    "        count += 1\n",
    "print(count)\n"
   ]
  },
  {
   "cell_type": "code",
   "execution_count": 3,
   "id": "79330cf8",
   "metadata": {},
   "outputs": [
    {
     "name": "stdout",
     "output_type": "stream",
     "text": [
      "['70', 'Pitt', 'Street']\n"
     ]
    }
   ],
   "source": [
    "data = \"70.Pitt.Street\"\n",
    "words_split = data.split(\".\")\n",
    "print(words_split)"
   ]
  },
  {
   "cell_type": "code",
   "execution_count": 4,
   "id": "da877f8a",
   "metadata": {},
   "outputs": [
    {
     "name": "stdout",
     "output_type": "stream",
     "text": [
      "True\n"
     ]
    }
   ],
   "source": [
    "address = \"70 Pitt Street\"\n",
    "word_split = address.split()\n",
    "result = False\n",
    "if word_split[0].isnumeric():\n",
    "    result = True\n",
    "elif word_split[1].isnumeric():\n",
    "    result = True\n",
    "elif word_split[2].isnumeric():\n",
    "    result = True\n",
    "else :\n",
    "    result = False\n",
    "\n",
    "print(result)"
   ]
  },
  {
   "cell_type": "code",
   "execution_count": 5,
   "id": "8191effc",
   "metadata": {},
   "outputs": [
    {
     "name": "stdout",
     "output_type": "stream",
     "text": [
      "True\n"
     ]
    }
   ],
   "source": [
    "sentence = \"This is my first class in programming\"\n",
    "\n",
    "sentence_split = sentence.split()\n",
    "result = False\n",
    "for str in sentence_split:\n",
    "    if str.startswith(\"i\") == True:\n",
    "        result = True\n",
    "print(result)"
   ]
  },
  {
   "cell_type": "code",
   "execution_count": 6,
   "id": "f67d283d",
   "metadata": {},
   "outputs": [
    {
     "data": {
      "text/plain": [
       "7"
      ]
     },
     "execution_count": 6,
     "metadata": {},
     "output_type": "execute_result"
    }
   ],
   "source": [
    "sentence = \"This is my first class in programming\"\n",
    "\n",
    "sentence_split = sentence.split()\n",
    "result = False\n",
    "len(sentence_split)"
   ]
  },
  {
   "cell_type": "code",
   "execution_count": 7,
   "id": "ebfcb3f7",
   "metadata": {},
   "outputs": [
    {
     "name": "stdout",
     "output_type": "stream",
     "text": [
      "1\n",
      "3\n",
      "6\n",
      "10\n",
      "15\n"
     ]
    }
   ],
   "source": [
    "data = [1,2,3,4,5]\n",
    "y = 0\n",
    "for x in data: #iterates over the list\n",
    "    y = y + x\n",
    "    print(y)"
   ]
  },
  {
   "cell_type": "code",
   "execution_count": 8,
   "id": "f499197d",
   "metadata": {},
   "outputs": [
    {
     "name": "stdout",
     "output_type": "stream",
     "text": [
      "thumbsdown\n",
      ":thumbsup:\n",
      "thumbsdown\n",
      "thumbsdown\n",
      "thumbsdown\n",
      "thumbsdown\n",
      ":thumbsup:\n",
      "thumbsdown\n",
      "thumbsdown\n",
      "True\n"
     ]
    }
   ],
   "source": [
    "sentence = \"This is my first class in programming\"\n",
    "\n",
    "sentence_split = sentence.split()\n",
    "result = False\n",
    "x = 0\n",
    "\n",
    "for apple in sentence_split:  ## The variable after for can be any variable (placeholder)\n",
    "    if sentence_split[x].startswith(\"i\"):\n",
    "        result = True\n",
    "        print(':thumbsup:')\n",
    "    print(\"thumbsdown\")\n",
    "    x += 1\n",
    "print(result)"
   ]
  },
  {
   "cell_type": "code",
   "execution_count": null,
   "id": "1f25452f",
   "metadata": {},
   "outputs": [],
   "source": []
  }
 ],
 "metadata": {
  "kernelspec": {
   "display_name": "saturn (Python 3)",
   "language": "python",
   "name": "python3"
  },
  "language_info": {
   "codemirror_mode": {
    "name": "ipython",
    "version": 3
   },
   "file_extension": ".py",
   "mimetype": "text/x-python",
   "name": "python",
   "nbconvert_exporter": "python",
   "pygments_lexer": "ipython3",
   "version": "3.10.8"
  }
 },
 "nbformat": 4,
 "nbformat_minor": 5
}
