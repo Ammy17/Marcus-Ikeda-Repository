{
 "cells": [
  {
   "cell_type": "code",
   "execution_count": 22,
   "id": "aeab3954",
   "metadata": {},
   "outputs": [
    {
     "name": "stdout",
     "output_type": "stream",
     "text": [
      "B is greater than A\n"
     ]
    }
   ],
   "source": [
    "a = '2000'\n",
    "b = '20000'\n",
    "\n",
    "if a < b :\n",
    "    print(\"B is greater than A\")\n",
    "elif a > b :\n",
    "    print(\"A is greater that B\")\n",
    "else :\n",
    "    print(\"A and B are equal\")"
   ]
  },
  {
   "cell_type": "code",
   "execution_count": 33,
   "id": "8e2c7dcf",
   "metadata": {},
   "outputs": [],
   "source": [
    "a = 2\n",
    "b = 2\n",
    "c = 3\n",
    "d = 4\n",
    "e = 4\n"
   ]
  },
  {
   "cell_type": "code",
   "execution_count": 24,
   "id": "298a8eaf",
   "metadata": {},
   "outputs": [
    {
     "name": "stdout",
     "output_type": "stream",
     "text": [
      "Both conditions are not met\n"
     ]
    }
   ],
   "source": [
    "if (a==b and b==c): ## And requires both of the statements to pass to return true\n",
    "    print(\"Both conditions are met\")\n",
    "else:\n",
    "    print(\"Both conditions are not met\")"
   ]
  },
  {
   "cell_type": "code",
   "execution_count": 25,
   "id": "bcb402e6",
   "metadata": {},
   "outputs": [
    {
     "name": "stdout",
     "output_type": "stream",
     "text": [
      "At least one condition is met\n"
     ]
    }
   ],
   "source": [
    "if (a==b or b==c): ## Or requires at least one of the statements to pass to return true\n",
    "    print(\"At least one condition is met\")\n",
    "else:\n",
    "    print(\"Both conditions are not met\")"
   ]
  },
  {
   "cell_type": "code",
   "execution_count": 35,
   "id": "ff1b2e71",
   "metadata": {},
   "outputs": [
    {
     "name": "stdout",
     "output_type": "stream",
     "text": [
      "i dont need help\n"
     ]
    }
   ],
   "source": [
    "if(a==b and b==c or a==c and d==e):\n",
    "    print(\"i need help\")\n",
    "else:\n",
    "    print(\"i dont need help\")\n"
   ]
  },
  {
   "cell_type": "code",
   "execution_count": 41,
   "id": "01c6bf5a",
   "metadata": {},
   "outputs": [
    {
     "name": "stdout",
     "output_type": "stream",
     "text": [
      "1. 0\n",
      "2. False\n",
      "3. 2\n",
      "4. 3\n",
      "5. 2\n",
      "6. []\n",
      "7. True\n",
      "8. False\n",
      "9. True\n",
      "10. True\n",
      "11. False\n"
     ]
    }
   ],
   "source": [
    "print(\"1.\", 2 and 0) # Evaluates to True and False -> True and False return False (We have only ints so we return an int)\n",
    "print(\"2.\", False and 2) # Evalutates to False and True -> False + Any number -> we get false\n",
    "print(\"3.\", True and 2) # Evaluates to True and True -> True + Any number -> we get a number\n",
    "print(\"4.\", 2 and 3) # Evauates to True and True -> 2 numbers gives the second number?\n",
    "print(\"5.\", 2 or []) # Nothing gives false -> We get 2 because its true (or statement)\n",
    "print(\"6.\", 0 or []) # Both are False\n",
    "print(\"7.\", not False) # Not gives opposite\n",
    "print(\"8.\", not True) # \n",
    "print(\"9.\", not []) #  [] = false\n",
    "print(\"10.\", not 0) # 0 = false\n",
    "print(\"11.\", not 100) # 100 = true"
   ]
  },
  {
   "cell_type": "code",
   "execution_count": 45,
   "id": "4ac2f5b6",
   "metadata": {},
   "outputs": [
    {
     "name": "stdout",
     "output_type": "stream",
     "text": [
      "1. False\n",
      "1A. True\n",
      "2. False\n",
      "3. True\n",
      "4. False\n",
      "4A. True\n",
      "5. True\n",
      "6. True\n",
      "7. False\n",
      "7A. True\n",
      "8. True\n"
     ]
    },
    {
     "name": "stderr",
     "output_type": "stream",
     "text": [
      "<>:7: SyntaxWarning: \"is\" with a literal. Did you mean \"==\"?\n",
      "<>:10: SyntaxWarning: \"is not\" with a literal. Did you mean \"!=\"?\n",
      "<>:7: SyntaxWarning: \"is\" with a literal. Did you mean \"==\"?\n",
      "<>:10: SyntaxWarning: \"is not\" with a literal. Did you mean \"!=\"?\n",
      "/tmp/ipykernel_285/1541767659.py:7: SyntaxWarning: \"is\" with a literal. Did you mean \"==\"?\n",
      "  print(\"3.\", \"Hi\" is \"Hi\") # These things are the same\n",
      "/tmp/ipykernel_285/1541767659.py:10: SyntaxWarning: \"is not\" with a literal. Did you mean \"!=\"?\n",
      "  print(\"5.\", 9 is not 10) # This is just true\n"
     ]
    }
   ],
   "source": [
    "x = {'name': \"example\"}\n",
    "b = x\n",
    "c = {'name': \"example\"}\n",
    "print(\"1.\", {} is {}) # This is false because the addresses are different is =/= equals\n",
    "print(\"1A.\", {} == {}) # Explained above\n",
    "print(\"2.\", [] is []) # Different addresses again\n",
    "print(\"3.\", \"Hi\" is \"Hi\") # These things are the same\n",
    "print(\"4.\", [\"same\"] is [\"same\"]) # Different addresses\n",
    "print(\"4A.\", [\"same\"] == [\"same\"]) # Equals checks the values which are the same\n",
    "print(\"5.\", 9 is not 10) # This is just true\n",
    "print(\"6.\", x is b) # we set b = x in the variables. So that b points to x, thus x is b\n",
    "print(\"7.\", b is c) # I guess these are just the same\n",
    "print(\"7A.\", b == c) # These values are the same\n",
    "print(\"8.\", x is not c) # Different addressess"
   ]
  },
  {
   "cell_type": "markdown",
   "id": "977a4997",
   "metadata": {},
   "source": [
    "strings and tuples share the same memory location if the values are the same. This is to same memory"
   ]
  },
  {
   "cell_type": "code",
   "execution_count": 46,
   "id": "ecec11b4",
   "metadata": {},
   "outputs": [
    {
     "name": "stdout",
     "output_type": "stream",
     "text": [
      "140532141546896\n",
      "140532141540208\n"
     ]
    }
   ],
   "source": [
    "a=500\n",
    "b=500\n",
    "print(id(a))\n",
    "print(id(b))"
   ]
  },
  {
   "cell_type": "code",
   "execution_count": 47,
   "id": "fbe2fd86",
   "metadata": {},
   "outputs": [
    {
     "name": "stdout",
     "output_type": "stream",
     "text": [
      "140532188463376\n",
      "140532188463376\n"
     ]
    }
   ],
   "source": [
    "a=2\n",
    "b=2\n",
    "print(id(a))\n",
    "print(id(b))"
   ]
  },
  {
   "cell_type": "markdown",
   "id": "ee42b21b",
   "metadata": {},
   "source": [
    "number between -5 and 256 will share the same memory"
   ]
  },
  {
   "cell_type": "code",
   "execution_count": 49,
   "id": "13486232",
   "metadata": {},
   "outputs": [
    {
     "name": "stdout",
     "output_type": "stream",
     "text": [
      "1000\n"
     ]
    }
   ],
   "source": [
    "##ternary opperator\n",
    "\n",
    "my_condition = True\n",
    "value = 10 if (2>3) else 1000\n",
    "print(value)"
   ]
  },
  {
   "cell_type": "code",
   "execution_count": 50,
   "id": "b5363b16",
   "metadata": {},
   "outputs": [
    {
     "name": "stdout",
     "output_type": "stream",
     "text": [
      "10\n"
     ]
    }
   ],
   "source": [
    "my_condition = True\n",
    "value = 10 if (4>3) else 1000\n",
    "print(value)"
   ]
  },
  {
   "cell_type": "code",
   "execution_count": 51,
   "id": "23b7492f",
   "metadata": {},
   "outputs": [
    {
     "name": "stdout",
     "output_type": "stream",
     "text": [
      "20\n"
     ]
    }
   ],
   "source": [
    "# let's say we are receiving two variables with different \n",
    "# values and we want to assign the higher value to a new variable\n",
    "x = 12\n",
    "y = 20\n",
    "new_variable = x if x > y else y\n",
    "# here we are saying, take the value of x if it is greater than the value of y. else take the value of y\n",
    "# since x > y evaluates to false, the ternary returns the value of the variable after the else statement or y\n",
    "print(new_variable)"
   ]
  },
  {
   "cell_type": "code",
   "execution_count": null,
   "id": "1692b73b",
   "metadata": {},
   "outputs": [],
   "source": []
  }
 ],
 "metadata": {
  "kernelspec": {
   "display_name": "saturn (Python 3)",
   "language": "python",
   "name": "python3"
  },
  "language_info": {
   "codemirror_mode": {
    "name": "ipython",
    "version": 3
   },
   "file_extension": ".py",
   "mimetype": "text/x-python",
   "name": "python",
   "nbconvert_exporter": "python",
   "pygments_lexer": "ipython3",
   "version": "3.10.8"
  }
 },
 "nbformat": 4,
 "nbformat_minor": 5
}
