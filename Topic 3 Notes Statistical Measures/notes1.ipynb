{
 "cells": [
  {
   "cell_type": "code",
   "execution_count": 1,
   "id": "bc4e9e52",
   "metadata": {},
   "outputs": [],
   "source": [
    "import numpy as np"
   ]
  },
  {
   "cell_type": "code",
   "execution_count": 2,
   "id": "a1dd99e3",
   "metadata": {},
   "outputs": [
    {
     "name": "stdout",
     "output_type": "stream",
     "text": [
      "Here is a NumPy array: [1 2 3 4]\n",
      "You know it is a NumPy array because its type is: <class 'numpy.ndarray'>\n"
     ]
    }
   ],
   "source": [
    "numpy_arr = np.array([1, 2, 3, 4])\n",
    "print('Here is a NumPy array:', numpy_arr)\n",
    "print('You know it is a NumPy array because its type is:', type(numpy_arr))"
   ]
  },
  {
   "cell_type": "code",
   "execution_count": 3,
   "id": "8d2e4da7",
   "metadata": {},
   "outputs": [],
   "source": [
    "numpy_arr[2] = 200 #indexing the items of an array/list"
   ]
  },
  {
   "cell_type": "code",
   "execution_count": 4,
   "id": "0f330df4",
   "metadata": {},
   "outputs": [
    {
     "data": {
      "text/plain": [
       "array([  1,   2, 200,   4])"
      ]
     },
     "execution_count": 4,
     "metadata": {},
     "output_type": "execute_result"
    }
   ],
   "source": [
    "numpy_arr # we treat it like a list?"
   ]
  },
  {
   "cell_type": "code",
   "execution_count": 5,
   "id": "1db2f274",
   "metadata": {},
   "outputs": [
    {
     "name": "stdout",
     "output_type": "stream",
     "text": [
      "[[1 2 3 4]\n",
      " [5 6 7 8]]\n"
     ]
    }
   ],
   "source": [
    "numpy_ndarr = np.array([[1, 2, 3, 4], [5, 6, 7, 8]])\n",
    "print(numpy_ndarr)"
   ]
  },
  {
   "cell_type": "code",
   "execution_count": 11,
   "id": "807bd43d",
   "metadata": {},
   "outputs": [],
   "source": [
    "list_of_integers = [0, 1, 2, 3]"
   ]
  },
  {
   "cell_type": "code",
   "execution_count": 12,
   "id": "766f213e",
   "metadata": {},
   "outputs": [
    {
     "data": {
      "text/plain": [
       "[0, 1, 2, 3, 3]"
      ]
     },
     "execution_count": 12,
     "metadata": {},
     "output_type": "execute_result"
    }
   ],
   "source": [
    "list_of_integers = list_of_integers + [3]\n",
    "list_of_integers"
   ]
  },
  {
   "cell_type": "code",
   "execution_count": 13,
   "id": "c626d665",
   "metadata": {},
   "outputs": [
    {
     "data": {
      "text/plain": [
       "array([3, 4, 5, 6, 6])"
      ]
     },
     "execution_count": 13,
     "metadata": {},
     "output_type": "execute_result"
    }
   ],
   "source": [
    "array_of_integers = np.array(list_of_integers)\n",
    "# Add 3\n",
    "array_of_integers + 3"
   ]
  },
  {
   "cell_type": "code",
   "execution_count": 14,
   "id": "4a4f3bed",
   "metadata": {},
   "outputs": [
    {
     "name": "stdout",
     "output_type": "stream",
     "text": [
      "Here is an array with the square footages for each room: [130 180 320  20]\n"
     ]
    }
   ],
   "source": [
    "lengths_of_each_room = np.array([10, 12, 20, 5])\n",
    "widths_of_each_room = np.array([13, 15, 16, 4])\n",
    "areas_of_each_room = lengths_of_each_room * widths_of_each_room\n",
    "print ('Here is an array with the square footages for each room:', areas_of_each_room)"
   ]
  },
  {
   "cell_type": "code",
   "execution_count": 15,
   "id": "2d12f638",
   "metadata": {},
   "outputs": [
    {
     "data": {
      "text/plain": [
       "numpy.ndarray"
      ]
     },
     "execution_count": 15,
     "metadata": {},
     "output_type": "execute_result"
    }
   ],
   "source": [
    "type(areas_of_each_room)"
   ]
  },
  {
   "cell_type": "code",
   "execution_count": 16,
   "id": "55bcf384",
   "metadata": {},
   "outputs": [
    {
     "name": "stdout",
     "output_type": "stream",
     "text": [
      "1. Without NumPy: [3.8888888888888893, 5.555555555555555, 10.0, 16.666666666666668, 22.22222222222222, 26.666666666666668, 29.444444444444446, 28.88888888888889, 24.444444444444446, 18.333333333333336, 12.222222222222223, 6.666666666666667]\n",
      "2. With NumPy: [ 3.88888889  5.55555556 10.         16.66666667 22.22222222 26.66666667\n",
      " 29.44444444 28.88888889 24.44444444 18.33333333 12.22222222  6.66666667]\n"
     ]
    }
   ],
   "source": [
    "# Average temps in NYC from January -> December (in fahrenheit)\n",
    "nyc_avg_temps_f = [39, 42, 50, 62, 72, 80, 85, 84, 76, 65, 54, 44]\n",
    "\n",
    "# ----- Without NumPy -----\n",
    "nyc_avg_temps_c = list(range(0,12))\n",
    "nyc_avg_temps_c[0] = (nyc_avg_temps_f[0] - 32) * (5/9)\n",
    "nyc_avg_temps_c[1] = (nyc_avg_temps_f[1] - 32) * (5/9)\n",
    "nyc_avg_temps_c[2] = (nyc_avg_temps_f[2] - 32) * (5/9)\n",
    "nyc_avg_temps_c[3] = (nyc_avg_temps_f[3] - 32) * (5/9)\n",
    "nyc_avg_temps_c[4] = (nyc_avg_temps_f[4] - 32) * (5/9)\n",
    "nyc_avg_temps_c[5] = (nyc_avg_temps_f[5] - 32) * (5/9)\n",
    "nyc_avg_temps_c[6] = (nyc_avg_temps_f[6] - 32) * (5/9)\n",
    "nyc_avg_temps_c[7] = (nyc_avg_temps_f[7] - 32) * (5/9)\n",
    "nyc_avg_temps_c[8] = (nyc_avg_temps_f[8] - 32) * (5/9)\n",
    "nyc_avg_temps_c[9] = (nyc_avg_temps_f[9] - 32) * (5/9)\n",
    "nyc_avg_temps_c[10] = (nyc_avg_temps_f[10] - 32) * (5/9)\n",
    "nyc_avg_temps_c[11] = (nyc_avg_temps_f[11] - 32) * (5/9)\n",
    "# -------------------------\n",
    "\n",
    "# ------ With NumPy -------\n",
    "np_nyc_avg_temps_f = np.array(nyc_avg_temps_f)\n",
    "np_nyc_avg_temps_c = (np_nyc_avg_temps_f - 32) * (5/9)\n",
    "# -------------------------\n",
    "\n",
    "print('1. Without NumPy:', nyc_avg_temps_c)\n",
    "print('2. With NumPy:', np_nyc_avg_temps_c)"
   ]
  },
  {
   "cell_type": "code",
   "execution_count": 20,
   "id": "37abafb8",
   "metadata": {},
   "outputs": [],
   "source": [
    "# Control flow in functions\n",
    "\n",
    "def func1(a):\n",
    "    print(a + 1)\n",
    "    print(\"Inside function func1\")\n",
    "    "
   ]
  },
  {
   "cell_type": "code",
   "execution_count": 21,
   "id": "cd3ff6e3",
   "metadata": {},
   "outputs": [],
   "source": [
    "def func2(b):\n",
    "    print(\"Displaying the contents as is\")\n",
    "    print(b)\n",
    "    func1(b) # -> goes and runs func1\n",
    "    print(\"Inside function func2\") # this occurs after func1"
   ]
  },
  {
   "cell_type": "code",
   "execution_count": 22,
   "id": "ef5ba211",
   "metadata": {},
   "outputs": [
    {
     "name": "stdout",
     "output_type": "stream",
     "text": [
      "running the code here\n",
      "Displaying the contents as is\n",
      "10\n",
      "11\n",
      "Inside function func1\n",
      "Inside function func2\n",
      "outside both functions\n"
     ]
    }
   ],
   "source": [
    "print(\"running the code here\")\n",
    "func2(10) # -> goes and runs func2\n",
    "print(\"outside both functions\")"
   ]
  },
  {
   "cell_type": "code",
   "execution_count": 33,
   "id": "77720071",
   "metadata": {},
   "outputs": [],
   "source": [
    "def addition(x,y) : # x and y are parameters, the type fo these parameters depend\n",
    "    #on the values that are passed during the function call\n",
    "    print(\"type of item a\", type(x))\n",
    "    print(\"type of item b\", type(y))\n",
    "    print(a+b)\n",
    "    "
   ]
  },
  {
   "cell_type": "code",
   "execution_count": 34,
   "id": "d60135c6",
   "metadata": {},
   "outputs": [
    {
     "name": "stdout",
     "output_type": "stream",
     "text": [
      "type of item a <class 'int'>\n",
      "type of item b <class 'int'>\n",
      "30\n"
     ]
    }
   ],
   "source": [
    "a = 10\n",
    "b = 20\n",
    "addition(a,b) # a and b are arguments"
   ]
  },
  {
   "cell_type": "code",
   "execution_count": 36,
   "id": "5e9504b8",
   "metadata": {},
   "outputs": [
    {
     "name": "stdout",
     "output_type": "stream",
     "text": [
      "Time it takes to add 1 to each element in a list without NumPy: 0.04272439999476774\n",
      "Time it takes to add 1 to each element in a list with NumPy: 0.0009044999969773926\n",
      "NumPy completes the operation 97 % faster than a traditional list\n"
     ]
    }
   ],
   "source": [
    "import time\n",
    "\n",
    "# Using 1 million integers\n",
    "huge_list_of_integers = list(range(0, 1000000))\n",
    "huge_np_array_of_integers = np.array(huge_list_of_integers)\n",
    "\n",
    "def add_one(list_of_ints):\n",
    "    return [num + 1 for num in list_of_ints]\n",
    "\n",
    "\n",
    "start_time = time.perf_counter() # Time when operation starts\n",
    "add_one(huge_list_of_integers) # Adds 1 to each number in the list of integers above\n",
    "end_time = time.perf_counter() # Time when operation finishes\n",
    "total_time = (end_time - start_time) # Total time for operation\n",
    "\n",
    "\n",
    "start_time_with_np = time.perf_counter() # Time when operation starts\n",
    "huge_np_array_of_integers + 1 # Adds 1 to each number in the array of integers\n",
    "end_time_with_np = time.perf_counter() # Time when operation finishes\n",
    "total_time_with_np = (end_time_with_np - start_time_with_np) # Total time for operation\n",
    "\n",
    "print('Time it takes to add 1 to each element in a list without NumPy:', total_time)\n",
    "print('Time it takes to add 1 to each element in a list with NumPy:', total_time_with_np)\n",
    "\n",
    "percent_faster = int((((total_time - total_time_with_np)/total_time)*100))\n",
    "print('NumPy completes the operation', percent_faster, '% faster than a traditional list')"
   ]
  },
  {
   "cell_type": "code",
   "execution_count": 37,
   "id": "0b6e9b98",
   "metadata": {},
   "outputs": [
    {
     "name": "stdout",
     "output_type": "stream",
     "text": [
      "<class 'list'>\n"
     ]
    },
    {
     "data": {
      "text/plain": [
       "[[1, 2], [3, 4]]"
      ]
     },
     "execution_count": 37,
     "metadata": {},
     "output_type": "execute_result"
    }
   ],
   "source": [
    "# An ordinary nested list\n",
    "y = [[1, 2], [3, 4]]\n",
    "print(type(y))\n",
    "y"
   ]
  },
  {
   "cell_type": "code",
   "execution_count": 38,
   "id": "9d20fea5",
   "metadata": {},
   "outputs": [
    {
     "name": "stdout",
     "output_type": "stream",
     "text": [
      "<class 'numpy.ndarray'>\n"
     ]
    },
    {
     "data": {
      "text/plain": [
       "array([[1, 2],\n",
       "       [3, 4]])"
      ]
     },
     "execution_count": 38,
     "metadata": {},
     "output_type": "execute_result"
    }
   ],
   "source": [
    "# Reformatted as a NumPy array\n",
    "y = np.array([[1, 2], [3, 4]])\n",
    "print(type(y))\n",
    "y"
   ]
  },
  {
   "cell_type": "code",
   "execution_count": 39,
   "id": "b6b20fa0",
   "metadata": {},
   "outputs": [
    {
     "data": {
      "text/plain": [
       "(2, 2)"
      ]
     },
     "execution_count": 39,
     "metadata": {},
     "output_type": "execute_result"
    }
   ],
   "source": [
    "y.shape"
   ]
  },
  {
   "cell_type": "code",
   "execution_count": 40,
   "id": "7700ee13",
   "metadata": {},
   "outputs": [
    {
     "name": "stdout",
     "output_type": "stream",
     "text": [
      "(2, 3)\n"
     ]
    },
    {
     "data": {
      "text/plain": [
       "array([[1, 2, 3],\n",
       "       [4, 5, 6]])"
      ]
     },
     "execution_count": 40,
     "metadata": {},
     "output_type": "execute_result"
    }
   ],
   "source": [
    "y = np.array([[1, 2, 3],[4, 5, 6]])\n",
    "print(y.shape)\n",
    "y"
   ]
  },
  {
   "cell_type": "code",
   "execution_count": 41,
   "id": "53aa17dc",
   "metadata": {},
   "outputs": [
    {
     "name": "stdout",
     "output_type": "stream",
     "text": [
      "(3, 2)\n"
     ]
    },
    {
     "data": {
      "text/plain": [
       "array([[1, 2],\n",
       "       [3, 4],\n",
       "       [5, 6]])"
      ]
     },
     "execution_count": 41,
     "metadata": {},
     "output_type": "execute_result"
    }
   ],
   "source": [
    "y = np.array([[1, 2],[3, 4],[5, 6]])\n",
    "print(y.shape)\n",
    "y"
   ]
  },
  {
   "cell_type": "code",
   "execution_count": 42,
   "id": "539084ea",
   "metadata": {},
   "outputs": [
    {
     "name": "stdout",
     "output_type": "stream",
     "text": [
      "(2, 3, 2)\n"
     ]
    },
    {
     "data": {
      "text/plain": [
       "array([[[1, 2],\n",
       "        [3, 4],\n",
       "        [5, 6]],\n",
       "\n",
       "       [[1, 2],\n",
       "        [3, 4],\n",
       "        [5, 6]]])"
      ]
     },
     "execution_count": 42,
     "metadata": {},
     "output_type": "execute_result"
    }
   ],
   "source": [
    "y = np.array([[[1, 2],[3, 4],[5, 6]],\n",
    "             [[1, 2],[3, 4],[5, 6]]\n",
    "             ])\n",
    "print(y.shape)\n",
    "y"
   ]
  },
  {
   "cell_type": "code",
   "execution_count": 43,
   "id": "0066e3f3",
   "metadata": {},
   "outputs": [
    {
     "data": {
      "text/plain": [
       "array([[0., 0.],\n",
       "       [0., 0.]])"
      ]
     },
     "execution_count": 43,
     "metadata": {},
     "output_type": "execute_result"
    }
   ],
   "source": [
    "np.zeros([2, 2])"
   ]
  },
  {
   "cell_type": "code",
   "execution_count": 44,
   "id": "355612a3",
   "metadata": {},
   "outputs": [
    {
     "data": {
      "text/plain": [
       "array([3, 3, 3, 3, 3])"
      ]
     },
     "execution_count": 44,
     "metadata": {},
     "output_type": "execute_result"
    }
   ],
   "source": [
    "# Create a 1d array with 5 elements, all of which are 3\n",
    "np.full(5, 3) "
   ]
  },
  {
   "cell_type": "code",
   "execution_count": 45,
   "id": "7f3615d2",
   "metadata": {},
   "outputs": [
    {
     "data": {
      "text/plain": [
       "array([0, 1, 2, 3, 4])"
      ]
     },
     "execution_count": 45,
     "metadata": {},
     "output_type": "execute_result"
    }
   ],
   "source": [
    "# Create a 1d array with 5 elements, filling them with the values 0 to 4\n",
    "np.full(5, range(5)) "
   ]
  },
  {
   "cell_type": "code",
   "execution_count": 46,
   "id": "6580e1dd",
   "metadata": {},
   "outputs": [
    {
     "name": "stdout",
     "output_type": "stream",
     "text": [
      "(4, 3)\n"
     ]
    },
    {
     "data": {
      "text/plain": [
       "array([[ 1,  2,  3],\n",
       "       [ 4,  5,  6],\n",
       "       [ 7,  8,  9],\n",
       "       [10, 11, 12]])"
      ]
     },
     "execution_count": 46,
     "metadata": {},
     "output_type": "execute_result"
    }
   ],
   "source": [
    "x = np.array([[1, 2, 3], [4, 5, 6], [7, 8, 9], [10, 11, 12]])\n",
    "print(x.shape)\n",
    "x"
   ]
  },
  {
   "cell_type": "code",
   "execution_count": 49,
   "id": "85b0ddb0",
   "metadata": {},
   "outputs": [
    {
     "data": {
      "text/plain": [
       "array([[ 4,  5,  6],\n",
       "       [ 7,  8,  9],\n",
       "       [10, 11, 12]])"
      ]
     },
     "execution_count": 49,
     "metadata": {},
     "output_type": "execute_result"
    }
   ],
   "source": [
    "# Retrieving all rows after the first row\n",
    "x[1:] "
   ]
  },
  {
   "cell_type": "code",
   "execution_count": 50,
   "id": "3781b4f8",
   "metadata": {},
   "outputs": [
    {
     "data": {
      "text/plain": [
       "array([[ 4,  5,  6],\n",
       "       [ 7,  8,  9],\n",
       "       [10, 11, 12]])"
      ]
     },
     "execution_count": 50,
     "metadata": {},
     "output_type": "execute_result"
    }
   ],
   "source": [
    "# Retrieving all rows after the first row\n",
    "x[1:] "
   ]
  },
  {
   "cell_type": "code",
   "execution_count": 53,
   "id": "8f44a2d2",
   "metadata": {},
   "outputs": [
    {
     "data": {
      "text/plain": [
       "array([[ 8,  9],\n",
       "       [11, 12]])"
      ]
     },
     "execution_count": 53,
     "metadata": {},
     "output_type": "execute_result"
    }
   ],
   "source": [
    "# Rows 2 through 4, columns 1 through 3\n",
    "x[2:4,1:3] "
   ]
  },
  {
   "cell_type": "code",
   "execution_count": null,
   "id": "fc78f549",
   "metadata": {},
   "outputs": [],
   "source": []
  }
 ],
 "metadata": {
  "kernelspec": {
   "display_name": "Python 3 (ipykernel)",
   "language": "python",
   "name": "python3"
  },
  "language_info": {
   "codemirror_mode": {
    "name": "ipython",
    "version": 3
   },
   "file_extension": ".py",
   "mimetype": "text/x-python",
   "name": "python",
   "nbconvert_exporter": "python",
   "pygments_lexer": "ipython3",
   "version": "3.10.9"
  }
 },
 "nbformat": 4,
 "nbformat_minor": 5
}
