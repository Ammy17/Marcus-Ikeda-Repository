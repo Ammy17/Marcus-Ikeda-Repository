{
 "cells": [
  {
   "cell_type": "code",
   "execution_count": 3,
   "id": "6419c2f8",
   "metadata": {},
   "outputs": [
    {
     "name": "stdout",
     "output_type": "stream",
     "text": [
      "[1, 2, 3, 4, 5, 6, 7, 8, 9]\n",
      "2\n",
      "4\n",
      "6\n",
      "8\n"
     ]
    }
   ],
   "source": [
    "data = list(range(1,10))\n",
    "print(data)\n",
    "\n",
    "#print even numbers\n",
    "\n",
    "for number in data :\n",
    "    if number % 2 == 0 :\n",
    "        print(number)"
   ]
  },
  {
   "cell_type": "code",
   "execution_count": 36,
   "id": "f1188218",
   "metadata": {},
   "outputs": [],
   "source": [
    "data_d = {1:\"one\", 2:\"two\",3:\"three\",4:\"four\",5:\"five\"}"
   ]
  },
  {
   "cell_type": "code",
   "execution_count": 44,
   "id": "d5f1695a",
   "metadata": {},
   "outputs": [
    {
     "name": "stdout",
     "output_type": "stream",
     "text": [
      "1 : one\n",
      "3 : three\n",
      "5 : five\n"
     ]
    }
   ],
   "source": [
    "for item in data_d :\n",
    "    if (item %2 == 1):\n",
    "        print(item,\":\", data_d[item])\n"
   ]
  },
  {
   "cell_type": "code",
   "execution_count": 8,
   "id": "54436974",
   "metadata": {},
   "outputs": [
    {
     "name": "stdout",
     "output_type": "stream",
     "text": [
      "Help on class dict in module builtins:\n",
      "\n",
      "class dict(object)\n",
      " |  dict() -> new empty dictionary\n",
      " |  dict(mapping) -> new dictionary initialized from a mapping object's\n",
      " |      (key, value) pairs\n",
      " |  dict(iterable) -> new dictionary initialized as if via:\n",
      " |      d = {}\n",
      " |      for k, v in iterable:\n",
      " |          d[k] = v\n",
      " |  dict(**kwargs) -> new dictionary initialized with the name=value pairs\n",
      " |      in the keyword argument list.  For example:  dict(one=1, two=2)\n",
      " |  \n",
      " |  Built-in subclasses:\n",
      " |      StgDict\n",
      " |  \n",
      " |  Methods defined here:\n",
      " |  \n",
      " |  __contains__(self, key, /)\n",
      " |      True if the dictionary has the specified key, else False.\n",
      " |  \n",
      " |  __delitem__(self, key, /)\n",
      " |      Delete self[key].\n",
      " |  \n",
      " |  __eq__(self, value, /)\n",
      " |      Return self==value.\n",
      " |  \n",
      " |  __ge__(self, value, /)\n",
      " |      Return self>=value.\n",
      " |  \n",
      " |  __getattribute__(self, name, /)\n",
      " |      Return getattr(self, name).\n",
      " |  \n",
      " |  __getitem__(...)\n",
      " |      x.__getitem__(y) <==> x[y]\n",
      " |  \n",
      " |  __gt__(self, value, /)\n",
      " |      Return self>value.\n",
      " |  \n",
      " |  __init__(self, /, *args, **kwargs)\n",
      " |      Initialize self.  See help(type(self)) for accurate signature.\n",
      " |  \n",
      " |  __ior__(self, value, /)\n",
      " |      Return self|=value.\n",
      " |  \n",
      " |  __iter__(self, /)\n",
      " |      Implement iter(self).\n",
      " |  \n",
      " |  __le__(self, value, /)\n",
      " |      Return self<=value.\n",
      " |  \n",
      " |  __len__(self, /)\n",
      " |      Return len(self).\n",
      " |  \n",
      " |  __lt__(self, value, /)\n",
      " |      Return self<value.\n",
      " |  \n",
      " |  __ne__(self, value, /)\n",
      " |      Return self!=value.\n",
      " |  \n",
      " |  __or__(self, value, /)\n",
      " |      Return self|value.\n",
      " |  \n",
      " |  __repr__(self, /)\n",
      " |      Return repr(self).\n",
      " |  \n",
      " |  __reversed__(self, /)\n",
      " |      Return a reverse iterator over the dict keys.\n",
      " |  \n",
      " |  __ror__(self, value, /)\n",
      " |      Return value|self.\n",
      " |  \n",
      " |  __setitem__(self, key, value, /)\n",
      " |      Set self[key] to value.\n",
      " |  \n",
      " |  __sizeof__(...)\n",
      " |      D.__sizeof__() -> size of D in memory, in bytes\n",
      " |  \n",
      " |  clear(...)\n",
      " |      D.clear() -> None.  Remove all items from D.\n",
      " |  \n",
      " |  copy(...)\n",
      " |      D.copy() -> a shallow copy of D\n",
      " |  \n",
      " |  get(self, key, default=None, /)\n",
      " |      Return the value for key if key is in the dictionary, else default.\n",
      " |  \n",
      " |  items(...)\n",
      " |      D.items() -> a set-like object providing a view on D's items\n",
      " |  \n",
      " |  keys(...)\n",
      " |      D.keys() -> a set-like object providing a view on D's keys\n",
      " |  \n",
      " |  pop(...)\n",
      " |      D.pop(k[,d]) -> v, remove specified key and return the corresponding value.\n",
      " |      \n",
      " |      If the key is not found, return the default if given; otherwise,\n",
      " |      raise a KeyError.\n",
      " |  \n",
      " |  popitem(self, /)\n",
      " |      Remove and return a (key, value) pair as a 2-tuple.\n",
      " |      \n",
      " |      Pairs are returned in LIFO (last-in, first-out) order.\n",
      " |      Raises KeyError if the dict is empty.\n",
      " |  \n",
      " |  setdefault(self, key, default=None, /)\n",
      " |      Insert key with a value of default if key is not in the dictionary.\n",
      " |      \n",
      " |      Return the value for key if key is in the dictionary, else default.\n",
      " |  \n",
      " |  update(...)\n",
      " |      D.update([E, ]**F) -> None.  Update D from dict/iterable E and F.\n",
      " |      If E is present and has a .keys() method, then does:  for k in E: D[k] = E[k]\n",
      " |      If E is present and lacks a .keys() method, then does:  for k, v in E: D[k] = v\n",
      " |      In either case, this is followed by: for k in F:  D[k] = F[k]\n",
      " |  \n",
      " |  values(...)\n",
      " |      D.values() -> an object providing a view on D's values\n",
      " |  \n",
      " |  ----------------------------------------------------------------------\n",
      " |  Class methods defined here:\n",
      " |  \n",
      " |  __class_getitem__(...) from builtins.type\n",
      " |      See PEP 585\n",
      " |  \n",
      " |  fromkeys(iterable, value=None, /) from builtins.type\n",
      " |      Create a new dictionary with keys from iterable and values set to value.\n",
      " |  \n",
      " |  ----------------------------------------------------------------------\n",
      " |  Static methods defined here:\n",
      " |  \n",
      " |  __new__(*args, **kwargs) from builtins.type\n",
      " |      Create and return a new object.  See help(type) for accurate signature.\n",
      " |  \n",
      " |  ----------------------------------------------------------------------\n",
      " |  Data and other attributes defined here:\n",
      " |  \n",
      " |  __hash__ = None\n",
      "\n"
     ]
    }
   ],
   "source": [
    "help(dict)"
   ]
  },
  {
   "cell_type": "code",
   "execution_count": 33,
   "id": "5a0926a4",
   "metadata": {},
   "outputs": [
    {
     "name": "stdout",
     "output_type": "stream",
     "text": [
      "15361920\n"
     ]
    }
   ],
   "source": [
    "data = list(range(1234,5679))\n",
    "sum = 0\n",
    "current = 0\n",
    "\n",
    "while current < len(data) :\n",
    "    sum = sum + data[current]\n",
    "    current += 1\n",
    "    \n",
    "print(sum)"
   ]
  },
  {
   "cell_type": "code",
   "execution_count": 34,
   "id": "d64fbe24",
   "metadata": {},
   "outputs": [
    {
     "name": "stdout",
     "output_type": "stream",
     "text": [
      "34834250 sum of squares\n",
      "44 numbers in range\n"
     ]
    }
   ],
   "source": [
    "data2 = list(range(777,999))\n",
    "sum = 0\n",
    "current = 0\n",
    "count = 0\n",
    "\n",
    "while current < len(data2) :\n",
    "    if data2[current] % 5 == 0 :\n",
    "        sum = sum + (data2[current] ** 2)\n",
    "        count += 1\n",
    "    current += 1\n",
    "    \n",
    "print(sum, \"sum of squares\")\n",
    "print(count, \"numbers in range\")"
   ]
  },
  {
   "cell_type": "code",
   "execution_count": 53,
   "id": "451592d5",
   "metadata": {},
   "outputs": [
    {
     "name": "stdout",
     "output_type": "stream",
     "text": [
      "this is iteration **1** of the OUTER loop\n",
      "     this is iteration ONE of the INNER loop\n",
      "     this is iteration TWO of the INNER loop\n",
      "     this is iteration THREE of the INNER loop\n",
      "\n",
      "\n",
      "this is iteration **2** of the OUTER loop\n",
      "     this is iteration ONE of the INNER loop\n",
      "     this is iteration TWO of the INNER loop\n",
      "     this is iteration THREE of the INNER loop\n",
      "\n",
      "\n",
      "this is iteration **3** of the OUTER loop\n",
      "     this is iteration ONE of the INNER loop\n",
      "     this is iteration TWO of the INNER loop\n",
      "     this is iteration THREE of the INNER loop\n",
      "\n",
      "\n"
     ]
    }
   ],
   "source": [
    "outer_numbers = [1,2,3]\n",
    "inner_words = [\"ONE\", \"TWO\", \"THREE\"]\n",
    "for number in outer_numbers:\n",
    "    print(f\"this is iteration **{number}** of the OUTER loop\")\n",
    "    for word in inner_words:\n",
    "        print(f\"     this is iteration {word} of the INNER loop\")\n",
    "    print(\"\\n\")"
   ]
  },
  {
   "cell_type": "code",
   "execution_count": 51,
   "id": "0d92ff3f",
   "metadata": {},
   "outputs": [
    {
     "name": "stdout",
     "output_type": "stream",
     "text": [
      "     this is iteration ONE of the INNER loop\n",
      "\n",
      "\n",
      "     this is iteration TWO of the INNER loop\n",
      "\n",
      "\n",
      "     this is iteration THREE of the INNER loop\n",
      "\n",
      "\n"
     ]
    }
   ],
   "source": [
    "inner_words = [\"ONE\", \"TWO\", \"THREE\"]\n",
    "for word in inner_words:\n",
    "    print(f\"     this is iteration {word} of the INNER loop\")\n",
    "    print(\"\\n\")"
   ]
  },
  {
   "cell_type": "code",
   "execution_count": 54,
   "id": "4d82ba65",
   "metadata": {},
   "outputs": [
    {
     "name": "stdout",
     "output_type": "stream",
     "text": [
      "outer iteration: 1\n",
      "    inner iteration: 1\n",
      "    inner iteration: 2\n",
      "    inner iteration: 3\n",
      "\n",
      "\n",
      "outer iteration: 2\n",
      "    inner iteration: 1\n",
      "    inner iteration: 2\n",
      "    inner iteration: 3\n",
      "\n",
      "\n",
      "outer iteration: 3\n",
      "    inner iteration: 1\n",
      "    inner iteration: 2\n",
      "    inner iteration: 3\n",
      "\n",
      "\n"
     ]
    }
   ],
   "source": [
    "outer = 0\n",
    "inner = 0\n",
    "while outer < 3:\n",
    "    outer += 1\n",
    "    print(\"outer iteration:\", outer)\n",
    "    while inner < 3: #inner loop starts here\n",
    "        inner += 1\n",
    "        print(\"    inner iteration:\", inner) #inner loop ends here\n",
    "    inner = 0\n",
    "    print(\"\\n\")"
   ]
  },
  {
   "cell_type": "code",
   "execution_count": 57,
   "id": "27f48828",
   "metadata": {},
   "outputs": [
    {
     "name": "stdout",
     "output_type": "stream",
     "text": [
      "    inner iteration: 1\n",
      "    inner iteration: 2\n",
      "    inner iteration: 3\n"
     ]
    }
   ],
   "source": [
    "inner = 0\n",
    "while inner < 3:\n",
    "    inner += 1\n",
    "    print(\"    inner iteration:\", inner)"
   ]
  },
  {
   "cell_type": "code",
   "execution_count": 58,
   "id": "2143ec71",
   "metadata": {},
   "outputs": [],
   "source": [
    "programmers = [{'name': \"rachel\", 'favorite_languages': ['Ruby', 'JavaScript', 'SQL', \"Java\"]},\n",
    "               {'name': \"daniel\", 'favorite_languages': ['JavaScript', 'Elixir', 'Python']},\n",
    "               {'name': \"greg\", 'favorite_languages': ['C#', 'CoffeeScript', 'R']},\n",
    "               {'name': \"meryl\", 'favorite_languages': ['C++', 'PHP', 'Swift']}\n",
    "              ]"
   ]
  },
  {
   "cell_type": "code",
   "execution_count": 59,
   "id": "69f324c2",
   "metadata": {},
   "outputs": [
    {
     "name": "stdout",
     "output_type": "stream",
     "text": [
      "Ruby\n",
      "JavaScript\n",
      "SQL\n",
      "Java\n",
      "JavaScript\n",
      "Elixir\n",
      "Python\n",
      "C#\n",
      "CoffeeScript\n",
      "R\n",
      "C++\n",
      "PHP\n",
      "Swift\n"
     ]
    }
   ],
   "source": [
    "for programmer in programmers:\n",
    "    for language in programmer['favorite_languages']:\n",
    "        print(language)"
   ]
  },
  {
   "cell_type": "code",
   "execution_count": 68,
   "id": "be3bf664",
   "metadata": {},
   "outputs": [
    {
     "name": "stdout",
     "output_type": "stream",
     "text": [
      "Ruby\n",
      "JavaScript\n",
      "SQL\n",
      "Java\n",
      "JavaScript\n",
      "Elixir\n",
      "Python\n",
      "C#\n",
      "CoffeeScript\n",
      "R\n",
      "C++\n",
      "PHP\n",
      "Swift\n"
     ]
    }
   ],
   "source": [
    "for programmer in programmers:\n",
    "    for l in programmer['favorite_languages']:    \n",
    "        print(l)"
   ]
  },
  {
   "cell_type": "code",
   "execution_count": 74,
   "id": "cd2ce634",
   "metadata": {},
   "outputs": [
    {
     "data": {
      "text/plain": [
       "['Ruby', 'JavaScript', 'SQL', 'Java']"
      ]
     },
     "execution_count": 74,
     "metadata": {},
     "output_type": "execute_result"
    }
   ],
   "source": [
    "d = {'name': 'rachel', 'favorite_languages': ['Ruby', 'JavaScript', 'SQL', \"Java\"]}\n",
    "l = d['favorite_languages']\n",
    "l"
   ]
  },
  {
   "cell_type": "code",
   "execution_count": 75,
   "id": "27ac3aa4",
   "metadata": {},
   "outputs": [
    {
     "name": "stdout",
     "output_type": "stream",
     "text": [
      "Ruby\n",
      "JavaScript\n",
      "SQL\n",
      "Java\n"
     ]
    }
   ],
   "source": [
    "for language in l: # programmer is a dictionary\n",
    "    print(language)"
   ]
  },
  {
   "cell_type": "code",
   "execution_count": 77,
   "id": "8c9fe6a7",
   "metadata": {},
   "outputs": [
    {
     "name": "stdout",
     "output_type": "stream",
     "text": [
      "n\n",
      "a\n",
      "m\n",
      "e\n",
      "f\n",
      "a\n",
      "v\n",
      "o\n",
      "r\n",
      "i\n",
      "t\n",
      "e\n",
      "_\n",
      "l\n",
      "a\n",
      "n\n",
      "g\n",
      "u\n",
      "a\n",
      "g\n",
      "e\n",
      "s\n"
     ]
    }
   ],
   "source": [
    "for item in d :\n",
    "    for j in item :\n",
    "        print(j)"
   ]
  },
  {
   "cell_type": "code",
   "execution_count": 60,
   "id": "bb6d1a17",
   "metadata": {},
   "outputs": [],
   "source": [
    "k = programmers[0] #indexes into a specific location in the list"
   ]
  },
  {
   "cell_type": "code",
   "execution_count": 63,
   "id": "ac1aa0b7",
   "metadata": {},
   "outputs": [
    {
     "data": {
      "text/plain": [
       "'Ruby'"
      ]
     },
     "execution_count": 63,
     "metadata": {},
     "output_type": "execute_result"
    }
   ],
   "source": [
    "res = k['favorite_languages'] # extracting the value from a dictionary using the key\n",
    "res[0]\n"
   ]
  },
  {
   "cell_type": "code",
   "execution_count": 64,
   "id": "e49b4d5a",
   "metadata": {},
   "outputs": [
    {
     "data": {
      "text/plain": [
       "'Ruby'"
      ]
     },
     "execution_count": 64,
     "metadata": {},
     "output_type": "execute_result"
    }
   ],
   "source": [
    "k['favorite_languages'][0]"
   ]
  },
  {
   "cell_type": "code",
   "execution_count": 65,
   "id": "c6b7e87e",
   "metadata": {},
   "outputs": [
    {
     "data": {
      "text/plain": [
       "'Ruby'"
      ]
     },
     "execution_count": 65,
     "metadata": {},
     "output_type": "execute_result"
    }
   ],
   "source": [
    "programmers[0]['favorite_languages'][0]"
   ]
  },
  {
   "cell_type": "code",
   "execution_count": null,
   "id": "e8db353d",
   "metadata": {},
   "outputs": [],
   "source": []
  }
 ],
 "metadata": {
  "kernelspec": {
   "display_name": "Python 3 (ipykernel)",
   "language": "python",
   "name": "python3"
  },
  "language_info": {
   "codemirror_mode": {
    "name": "ipython",
    "version": 3
   },
   "file_extension": ".py",
   "mimetype": "text/x-python",
   "name": "python",
   "nbconvert_exporter": "python",
   "pygments_lexer": "ipython3",
   "version": "3.10.9"
  }
 },
 "nbformat": 4,
 "nbformat_minor": 5
}
