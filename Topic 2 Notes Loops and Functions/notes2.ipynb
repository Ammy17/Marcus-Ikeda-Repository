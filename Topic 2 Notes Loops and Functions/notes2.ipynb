{
 "cells": [
  {
   "cell_type": "code",
   "execution_count": 4,
   "id": "ee0419dd",
   "metadata": {},
   "outputs": [
    {
     "name": "stdout",
     "output_type": "stream",
     "text": [
      "78\n",
      "<class 'int'>\n"
     ]
    }
   ],
   "source": [
    "import numpy as np\n",
    "random_num = np.random.randint(1,100)\n",
    "print(random_num)\n",
    "print(type(random_num))"
   ]
  },
  {
   "cell_type": "code",
   "execution_count": 5,
   "id": "c872ae9f",
   "metadata": {},
   "outputs": [
    {
     "name": "stdout",
     "output_type": "stream",
     "text": [
      "77\n",
      "76\n",
      "75\n",
      "74\n",
      "73\n",
      "72\n",
      "71\n",
      "70\n",
      "69\n",
      "68\n",
      "67\n",
      "66\n",
      "65\n",
      "64\n",
      "63\n",
      "62\n",
      "61\n",
      "60\n",
      "59\n",
      "58\n",
      "57\n",
      "56\n",
      "55\n",
      "54\n",
      "53\n",
      "52\n",
      "51\n",
      "50\n",
      "49\n",
      "48\n",
      "47\n",
      "46\n",
      "45\n",
      "44\n",
      "43\n",
      "42\n",
      "41\n",
      "40\n",
      "39\n",
      "38\n",
      "37\n",
      "36\n",
      "35\n",
      "34\n",
      "33\n",
      "32\n",
      "31\n",
      "30\n",
      "29\n",
      "28\n",
      "27\n",
      "26\n",
      "25\n",
      "24\n",
      "23\n",
      "22\n",
      "21\n",
      "20\n",
      "19\n",
      "18\n",
      "17\n",
      "16\n",
      "15\n",
      "14\n",
      "13\n",
      "12\n",
      "11\n",
      "10\n",
      "9\n",
      "8\n",
      "7\n",
      "6\n",
      "5\n",
      "4\n",
      "3\n",
      "2\n",
      "1\n",
      "0\n"
     ]
    }
   ],
   "source": [
    "while random_num > 0:\n",
    "    random_num -= 1\n",
    "    print(random_num)"
   ]
  },
  {
   "cell_type": "code",
   "execution_count": 6,
   "id": "01338681",
   "metadata": {},
   "outputs": [
    {
     "name": "stdout",
     "output_type": "stream",
     "text": [
      "hello\n",
      "hello\n",
      "hello\n",
      "hello\n",
      "hello\n"
     ]
    }
   ],
   "source": [
    "# Using WHILE LOOPS print hello 5 times\n",
    "iterations = 5\n",
    "while iterations > 0 :\n",
    "    print(\"hello\")\n",
    "    iterations -= 1\n"
   ]
  },
  {
   "cell_type": "code",
   "execution_count": 14,
   "id": "383e4160",
   "metadata": {},
   "outputs": [
    {
     "name": "stdout",
     "output_type": "stream",
     "text": [
      "1\n",
      "2\n",
      "3\n",
      "4\n",
      "5\n",
      "6\n",
      "7\n",
      "8\n",
      "9\n",
      "10\n"
     ]
    }
   ],
   "source": [
    "# Print first 10 numbers starting from 1\n",
    "lc = 0\n",
    "num = 1 \n",
    "while (lc < 10) :\n",
    "    print(num)\n",
    "    num += 1\n",
    "    lc += 1"
   ]
  },
  {
   "cell_type": "code",
   "execution_count": 17,
   "id": "588f0bed",
   "metadata": {},
   "outputs": [
    {
     "name": "stdout",
     "output_type": "stream",
     "text": [
      "4\n",
      "16\n",
      "36\n",
      "64\n",
      "100\n"
     ]
    }
   ],
   "source": [
    "# Print the squares of first 5 even numbers\n",
    "# i.e. 4, 16, 36, 64, 100\n",
    "# -> We need a loop which will terminate after printing 5 numbers\n",
    "esc = 5 ## number of iterations\n",
    "i = 1\n",
    "while(esc > 0):\n",
    "    if(i%2 == 0):\n",
    "        k = i * i #i has to be an even number\n",
    "        print(k)\n",
    "        esc -= 1\n",
    "        \n",
    "    i += 1"
   ]
  },
  {
   "cell_type": "code",
   "execution_count": 18,
   "id": "5f949202",
   "metadata": {},
   "outputs": [
    {
     "name": "stdout",
     "output_type": "stream",
     "text": [
      "----[sips water]-----\n",
      "ah, that was refreshing\n",
      "hydration is now at 10 %\n",
      "\n",
      "----[sips water]-----\n",
      "ah, that was refreshing\n",
      "hydration is now at 20 %\n",
      "\n",
      "----[sips water]-----\n",
      "ah, that was refreshing\n",
      "hydration is now at 30 %\n",
      "\n",
      "----[sips water]-----\n",
      "ah, that was refreshing\n",
      "hydration is now at 40 %\n",
      "\n",
      "----[sips water]-----\n",
      "ah, that was refreshing\n",
      "hydration is now at 50 %\n",
      "\n",
      "----[sips water]-----\n",
      "ah, that was refreshing\n",
      "hydration is now at 60 %\n",
      "\n",
      "----[sips water]-----\n",
      "ah, that was refreshing\n",
      "hydration is now at 70 %\n",
      "\n",
      "----[sips water]-----\n",
      "ah, that was refreshing\n",
      "hydration is now at 80 %\n",
      "\n",
      "----[sips water]-----\n",
      "ah, that was refreshing\n",
      "hydration is now at 90 %\n",
      "\n",
      "----[sips water]-----\n",
      "ah, that was refreshing\n",
      "hydration is now at 100 %\n",
      "\n"
     ]
    }
   ],
   "source": [
    "hydration = 0\n",
    "water = 1 # in gallons\n",
    "while hydration < 100 and water > 0:\n",
    "    print('----[sips water]-----')\n",
    "    water -= .1\n",
    "    print('ah, that was refreshing')\n",
    "    hydration += 10\n",
    "    print('hydration is now at', hydration, '%\\n')"
   ]
  },
  {
   "cell_type": "code",
   "execution_count": 22,
   "id": "c1cd0c27",
   "metadata": {},
   "outputs": [
    {
     "name": "stdout",
     "output_type": "stream",
     "text": [
      "0\n",
      "Since we don't have a continue statement, \n",
      "I'll always get executed\n",
      "1\n",
      "Since we don't have a continue statement, \n",
      "I'll always get executed\n",
      "2\n",
      "Since we don't have a continue statement, \n",
      "I'll always get executed\n",
      "3\n",
      "Since we don't have a continue statement, \n",
      "I'll always get executed\n",
      "4\n",
      "Since we don't have a continue statement, \n",
      "I'll always get executed\n"
     ]
    }
   ],
   "source": [
    "data = list(range(0, 5))\n",
    "for i in data:\n",
    "    if True:\n",
    "        print(i)\n",
    "        print(\"Since we don't have a continue statement, \\nI'll always get executed\")"
   ]
  },
  {
   "cell_type": "code",
   "execution_count": null,
   "id": "834b588b",
   "metadata": {},
   "outputs": [],
   "source": []
  }
 ],
 "metadata": {
  "kernelspec": {
   "display_name": "saturn (Python 3)",
   "language": "python",
   "name": "python3"
  },
  "language_info": {
   "codemirror_mode": {
    "name": "ipython",
    "version": 3
   },
   "file_extension": ".py",
   "mimetype": "text/x-python",
   "name": "python",
   "nbconvert_exporter": "python",
   "pygments_lexer": "ipython3",
   "version": "3.10.8"
  }
 },
 "nbformat": 4,
 "nbformat_minor": 5
}
