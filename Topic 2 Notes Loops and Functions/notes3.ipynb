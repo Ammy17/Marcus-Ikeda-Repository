{
 "cells": [
  {
   "cell_type": "code",
   "execution_count": 190,
   "id": "72454972",
   "metadata": {},
   "outputs": [
    {
     "ename": "SyntaxError",
     "evalue": "unmatched ')' (272253753.py, line 1)",
     "output_type": "error",
     "traceback": [
      "\u001b[1;36m  Cell \u001b[1;32mIn[190], line 1\u001b[1;36m\u001b[0m\n\u001b[1;33m    q1) Create a user-defined function to accept a word from the user and check if the word is a palindrome or not.\u001b[0m\n\u001b[1;37m      ^\u001b[0m\n\u001b[1;31mSyntaxError\u001b[0m\u001b[1;31m:\u001b[0m unmatched ')'\n"
     ]
    }
   ],
   "source": [
    "q1) Create a user-defined function to accept a word from the user and check if the word is a palindrome or not.\n",
    "Note: Palindromes are the words that read the same backward and forward e.g. madam, mom, dad etc.  \n",
    "The word “madam” is a palindrome as it spells the same even after reversing. The word \"CAT\" is not a palindrome, since \"TAC\" would be the reverse of \"CAT\" and they are not spelled the same. \n",
    "\n",
    "q2)Create a user-defined function to accept multiple words from the user and store them in a list. Sort the words in the list in alphabetical order and print them. \n",
    "Sample Input: [zebra, cat, ant] \n",
    "Sample Output: [ant, cat, zebra]\n",
    "\n",
    "q3)Create a user-defined function to accept user input as a list of characters. Convert the list of characters into a string and display the output.  \n",
    "Sample Input: ['A', 'l', 'p', 'h', 'a']\n",
    "Sample Output: Alpha\n",
    "Hint: Consider exploring how to use the join() function.\n",
    "\n",
    "q4)Create a user-defined function to allow the user to input 10 numbers and save them in a list. Print the smallest and the largest numbers from this list.\n",
    "Sample input:\n",
    "Data = [3,4,1,0, -31, 20, 40]\n",
    "Sample output: \n",
    "Min = -31 \n",
    "Max =40 \n",
    "\n",
    "q5)Create a user-defined function to accept input from the user to populate a dictionary, using the following data:\n",
    "Item1 45.50\n",
    "item2  35\n",
    "item3  41.30\n",
    "item4  29\n",
    "item5  49.89\n",
    "Identify the maximum and minimum values from the dictionary. \n",
    "The output should be:\n",
    "Max value: 49.89\n",
    "Min value: 29  \n",
    "\n",
    "q6)Write a program to create a profile card of a person. Create a user-defined function f1() to accept input from the user \n",
    "to store the name, age, gender, and occupation as local variables. \n",
    "Create another user-defined function f2() to print the values entered by the user earlier and \n",
    "generate a profile card. Function f2() will be called from f1().\n",
    "Sample output: \n",
    "Name: John Matthew\n",
    "Age: 40 \n",
    "Gender: Male\n",
    "Occupation: HR  \n",
    "\n",
    "q7)color =\n",
    "[('black', 4), ('green', 1), ('red', 5), ('blue', 2), ('yellow', 3)]\n",
    "Create a user-defined function to sort the data in the above list in ascending order. \n",
    "The output after sorting should be as follows:\n",
    "[('green', 1), ('blue', 2), ('yellow', 3), ('black', 4), ('red', 5)]\n",
    "\n",
    "q8)a = [“Andy”, “Mandy”, “Sandy”]\n",
    "b = [“Handy”, “Burgundy”, “Mandy”]\n",
    "Write a program to find the common element(s) in the two lists using Lambda expressions.\n",
    "Sample Input:\n",
    "    a = [“Ant”, “Cat”, “Mat”]\n",
    "    b = [“Bat”, “Hat”, “Ant”]\n",
    "Sample Output: [Ant]\n",
    "\n",
    "q9)c = [12,14,14]\n",
    "d = [17,16,17]\n",
    "Write a Python program to add each element of list c with the corresponding element of list d, \n",
    "using map function and Lambda expression. \n",
    "The output should be [29,30,31].\n",
    "\n",
    "q10)Develop a function that accepts the below mentioned date of birth and date of joining of an employee and determines if the employee is over 18 years of age. The function should accept dob and doj as two arguments and return True or False. \n",
    "dob=\"12-25-1991\"  #date of birth\n",
    "doj=  \"04-25-2020\" #date of joining the company \n",
    "The dates are in MM-DD-YYYY format.\n",
    "Hint: You are expected to only compare the year component in the dates to perform this task. Use the split() function in string. For example, \n",
    "parts_of_date = dob.split(\"-\")\n",
    "\n",
    " \n",
    "\n",
    "\n"
   ]
  },
  {
   "cell_type": "code",
   "execution_count": 56,
   "id": "df319dec",
   "metadata": {},
   "outputs": [],
   "source": [
    "#1\n",
    "def palindrome(text):\n",
    "    reverse = \"\"\n",
    "    for letter in text :\n",
    "        reverse = (letter + reverse)\n",
    "    if reverse == text :\n",
    "        print(True)\n",
    "    else :\n",
    "        print(False)"
   ]
  },
  {
   "cell_type": "code",
   "execution_count": 58,
   "id": "0f659209",
   "metadata": {},
   "outputs": [
    {
     "name": "stdout",
     "output_type": "stream",
     "text": [
      "1234321\n",
      "True\n"
     ]
    }
   ],
   "source": [
    "text = input()\n",
    "palindrome(text)"
   ]
  },
  {
   "cell_type": "code",
   "execution_count": 92,
   "id": "2717f4c3",
   "metadata": {},
   "outputs": [],
   "source": [
    "#2\n",
    "def alphabetic_sort(a_list):\n",
    "    i = 0\n",
    "    while i < len(a_list) : # normalise upper case and lower case\n",
    "        a_list[i] = a_list[i].title()\n",
    "        i += 1\n",
    "    \n",
    "    a_list.sort()\n",
    "    \n",
    "    return a_list\n",
    "    "
   ]
  },
  {
   "cell_type": "code",
   "execution_count": 94,
   "id": "f56ca5e3",
   "metadata": {},
   "outputs": [
    {
     "name": "stdout",
     "output_type": "stream",
     "text": [
      "ksnflks\n",
      "ffoe1\n",
      "4t4t1\n",
      "ofi1\n",
      "esape\n",
      "escape\n"
     ]
    },
    {
     "data": {
      "text/plain": [
       "['4T4T1', 'Esape', 'Ffoe1', 'Ksnflks', 'Ofi1']"
      ]
     },
     "execution_count": 94,
     "metadata": {},
     "output_type": "execute_result"
    }
   ],
   "source": [
    "a_list = []\n",
    "escape = False\n",
    "while escape == False :\n",
    "    text = input()\n",
    "    if text == \"escape\": \n",
    "        escape == True\n",
    "        break\n",
    "    else :\n",
    "        a_list.append(text)\n",
    "\n",
    "alphabetic_sort(a_list)\n",
    "#alphabtic_sort(a_list)\n",
    "\n",
    "#help(list)\n"
   ]
  },
  {
   "cell_type": "code",
   "execution_count": 31,
   "id": "38f9479b",
   "metadata": {},
   "outputs": [],
   "source": [
    "#3\n",
    "def char_string(list) :\n",
    "    string = ''.join(list)\n",
    "    print(list)\n",
    "    print(string)\n",
    "\n",
    "    "
   ]
  },
  {
   "cell_type": "code",
   "execution_count": 32,
   "id": "4b8ff822",
   "metadata": {},
   "outputs": [
    {
     "name": "stdout",
     "output_type": "stream",
     "text": [
      "fgsgw\n",
      "['f', 'g', 's', 'g', 'w']\n",
      "fgsgw\n"
     ]
    }
   ],
   "source": [
    "text = input()\n",
    "list = []\n",
    "for letter in text :\n",
    "    list.append(letter)\n",
    "    \n",
    "char_string(list)    "
   ]
  },
  {
   "cell_type": "code",
   "execution_count": 134,
   "id": "e71dc1fe",
   "metadata": {},
   "outputs": [
    {
     "name": "stdout",
     "output_type": "stream",
     "text": [
      "11234\n"
     ]
    }
   ],
   "source": [
    "print(11234)"
   ]
  },
  {
   "cell_type": "code",
   "execution_count": 106,
   "id": "3e7383b8",
   "metadata": {},
   "outputs": [
    {
     "name": "stdout",
     "output_type": "stream",
     "text": [
      "Help on class str in module builtins:\n",
      "\n",
      "class str(object)\n",
      " |  str(object='') -> str\n",
      " |  str(bytes_or_buffer[, encoding[, errors]]) -> str\n",
      " |  \n",
      " |  Create a new string object from the given object. If encoding or\n",
      " |  errors is specified, then the object must expose a data buffer\n",
      " |  that will be decoded using the given encoding and error handler.\n",
      " |  Otherwise, returns the result of object.__str__() (if defined)\n",
      " |  or repr(object).\n",
      " |  encoding defaults to sys.getdefaultencoding().\n",
      " |  errors defaults to 'strict'.\n",
      " |  \n",
      " |  Methods defined here:\n",
      " |  \n",
      " |  __add__(self, value, /)\n",
      " |      Return self+value.\n",
      " |  \n",
      " |  __contains__(self, key, /)\n",
      " |      Return key in self.\n",
      " |  \n",
      " |  __eq__(self, value, /)\n",
      " |      Return self==value.\n",
      " |  \n",
      " |  __format__(self, format_spec, /)\n",
      " |      Return a formatted version of the string as described by format_spec.\n",
      " |  \n",
      " |  __ge__(self, value, /)\n",
      " |      Return self>=value.\n",
      " |  \n",
      " |  __getattribute__(self, name, /)\n",
      " |      Return getattr(self, name).\n",
      " |  \n",
      " |  __getitem__(self, key, /)\n",
      " |      Return self[key].\n",
      " |  \n",
      " |  __getnewargs__(...)\n",
      " |  \n",
      " |  __gt__(self, value, /)\n",
      " |      Return self>value.\n",
      " |  \n",
      " |  __hash__(self, /)\n",
      " |      Return hash(self).\n",
      " |  \n",
      " |  __iter__(self, /)\n",
      " |      Implement iter(self).\n",
      " |  \n",
      " |  __le__(self, value, /)\n",
      " |      Return self<=value.\n",
      " |  \n",
      " |  __len__(self, /)\n",
      " |      Return len(self).\n",
      " |  \n",
      " |  __lt__(self, value, /)\n",
      " |      Return self<value.\n",
      " |  \n",
      " |  __mod__(self, value, /)\n",
      " |      Return self%value.\n",
      " |  \n",
      " |  __mul__(self, value, /)\n",
      " |      Return self*value.\n",
      " |  \n",
      " |  __ne__(self, value, /)\n",
      " |      Return self!=value.\n",
      " |  \n",
      " |  __repr__(self, /)\n",
      " |      Return repr(self).\n",
      " |  \n",
      " |  __rmod__(self, value, /)\n",
      " |      Return value%self.\n",
      " |  \n",
      " |  __rmul__(self, value, /)\n",
      " |      Return value*self.\n",
      " |  \n",
      " |  __sizeof__(self, /)\n",
      " |      Return the size of the string in memory, in bytes.\n",
      " |  \n",
      " |  __str__(self, /)\n",
      " |      Return str(self).\n",
      " |  \n",
      " |  capitalize(self, /)\n",
      " |      Return a capitalized version of the string.\n",
      " |      \n",
      " |      More specifically, make the first character have upper case and the rest lower\n",
      " |      case.\n",
      " |  \n",
      " |  casefold(self, /)\n",
      " |      Return a version of the string suitable for caseless comparisons.\n",
      " |  \n",
      " |  center(self, width, fillchar=' ', /)\n",
      " |      Return a centered string of length width.\n",
      " |      \n",
      " |      Padding is done using the specified fill character (default is a space).\n",
      " |  \n",
      " |  count(...)\n",
      " |      S.count(sub[, start[, end]]) -> int\n",
      " |      \n",
      " |      Return the number of non-overlapping occurrences of substring sub in\n",
      " |      string S[start:end].  Optional arguments start and end are\n",
      " |      interpreted as in slice notation.\n",
      " |  \n",
      " |  encode(self, /, encoding='utf-8', errors='strict')\n",
      " |      Encode the string using the codec registered for encoding.\n",
      " |      \n",
      " |      encoding\n",
      " |        The encoding in which to encode the string.\n",
      " |      errors\n",
      " |        The error handling scheme to use for encoding errors.\n",
      " |        The default is 'strict' meaning that encoding errors raise a\n",
      " |        UnicodeEncodeError.  Other possible values are 'ignore', 'replace' and\n",
      " |        'xmlcharrefreplace' as well as any other name registered with\n",
      " |        codecs.register_error that can handle UnicodeEncodeErrors.\n",
      " |  \n",
      " |  endswith(...)\n",
      " |      S.endswith(suffix[, start[, end]]) -> bool\n",
      " |      \n",
      " |      Return True if S ends with the specified suffix, False otherwise.\n",
      " |      With optional start, test S beginning at that position.\n",
      " |      With optional end, stop comparing S at that position.\n",
      " |      suffix can also be a tuple of strings to try.\n",
      " |  \n",
      " |  expandtabs(self, /, tabsize=8)\n",
      " |      Return a copy where all tab characters are expanded using spaces.\n",
      " |      \n",
      " |      If tabsize is not given, a tab size of 8 characters is assumed.\n",
      " |  \n",
      " |  find(...)\n",
      " |      S.find(sub[, start[, end]]) -> int\n",
      " |      \n",
      " |      Return the lowest index in S where substring sub is found,\n",
      " |      such that sub is contained within S[start:end].  Optional\n",
      " |      arguments start and end are interpreted as in slice notation.\n",
      " |      \n",
      " |      Return -1 on failure.\n",
      " |  \n",
      " |  format(...)\n",
      " |      S.format(*args, **kwargs) -> str\n",
      " |      \n",
      " |      Return a formatted version of S, using substitutions from args and kwargs.\n",
      " |      The substitutions are identified by braces ('{' and '}').\n",
      " |  \n",
      " |  format_map(...)\n",
      " |      S.format_map(mapping) -> str\n",
      " |      \n",
      " |      Return a formatted version of S, using substitutions from mapping.\n",
      " |      The substitutions are identified by braces ('{' and '}').\n",
      " |  \n",
      " |  index(...)\n",
      " |      S.index(sub[, start[, end]]) -> int\n",
      " |      \n",
      " |      Return the lowest index in S where substring sub is found,\n",
      " |      such that sub is contained within S[start:end].  Optional\n",
      " |      arguments start and end are interpreted as in slice notation.\n",
      " |      \n",
      " |      Raises ValueError when the substring is not found.\n",
      " |  \n",
      " |  isalnum(self, /)\n",
      " |      Return True if the string is an alpha-numeric string, False otherwise.\n",
      " |      \n",
      " |      A string is alpha-numeric if all characters in the string are alpha-numeric and\n",
      " |      there is at least one character in the string.\n",
      " |  \n",
      " |  isalpha(self, /)\n",
      " |      Return True if the string is an alphabetic string, False otherwise.\n",
      " |      \n",
      " |      A string is alphabetic if all characters in the string are alphabetic and there\n",
      " |      is at least one character in the string.\n",
      " |  \n",
      " |  isascii(self, /)\n",
      " |      Return True if all characters in the string are ASCII, False otherwise.\n",
      " |      \n",
      " |      ASCII characters have code points in the range U+0000-U+007F.\n",
      " |      Empty string is ASCII too.\n",
      " |  \n",
      " |  isdecimal(self, /)\n",
      " |      Return True if the string is a decimal string, False otherwise.\n",
      " |      \n",
      " |      A string is a decimal string if all characters in the string are decimal and\n",
      " |      there is at least one character in the string.\n",
      " |  \n",
      " |  isdigit(self, /)\n",
      " |      Return True if the string is a digit string, False otherwise.\n",
      " |      \n",
      " |      A string is a digit string if all characters in the string are digits and there\n",
      " |      is at least one character in the string.\n",
      " |  \n",
      " |  isidentifier(self, /)\n",
      " |      Return True if the string is a valid Python identifier, False otherwise.\n",
      " |      \n",
      " |      Call keyword.iskeyword(s) to test whether string s is a reserved identifier,\n",
      " |      such as \"def\" or \"class\".\n",
      " |  \n",
      " |  islower(self, /)\n",
      " |      Return True if the string is a lowercase string, False otherwise.\n",
      " |      \n",
      " |      A string is lowercase if all cased characters in the string are lowercase and\n",
      " |      there is at least one cased character in the string.\n",
      " |  \n",
      " |  isnumeric(self, /)\n",
      " |      Return True if the string is a numeric string, False otherwise.\n",
      " |      \n",
      " |      A string is numeric if all characters in the string are numeric and there is at\n",
      " |      least one character in the string.\n",
      " |  \n",
      " |  isprintable(self, /)\n",
      " |      Return True if the string is printable, False otherwise.\n",
      " |      \n",
      " |      A string is printable if all of its characters are considered printable in\n",
      " |      repr() or if it is empty.\n",
      " |  \n",
      " |  isspace(self, /)\n",
      " |      Return True if the string is a whitespace string, False otherwise.\n",
      " |      \n",
      " |      A string is whitespace if all characters in the string are whitespace and there\n",
      " |      is at least one character in the string.\n",
      " |  \n",
      " |  istitle(self, /)\n",
      " |      Return True if the string is a title-cased string, False otherwise.\n",
      " |      \n",
      " |      In a title-cased string, upper- and title-case characters may only\n",
      " |      follow uncased characters and lowercase characters only cased ones.\n",
      " |  \n",
      " |  isupper(self, /)\n",
      " |      Return True if the string is an uppercase string, False otherwise.\n",
      " |      \n",
      " |      A string is uppercase if all cased characters in the string are uppercase and\n",
      " |      there is at least one cased character in the string.\n",
      " |  \n",
      " |  join(self, iterable, /)\n",
      " |      Concatenate any number of strings.\n",
      " |      \n",
      " |      The string whose method is called is inserted in between each given string.\n",
      " |      The result is returned as a new string.\n",
      " |      \n",
      " |      Example: '.'.join(['ab', 'pq', 'rs']) -> 'ab.pq.rs'\n",
      " |  \n",
      " |  ljust(self, width, fillchar=' ', /)\n",
      " |      Return a left-justified string of length width.\n",
      " |      \n",
      " |      Padding is done using the specified fill character (default is a space).\n",
      " |  \n",
      " |  lower(self, /)\n",
      " |      Return a copy of the string converted to lowercase.\n",
      " |  \n",
      " |  lstrip(self, chars=None, /)\n",
      " |      Return a copy of the string with leading whitespace removed.\n",
      " |      \n",
      " |      If chars is given and not None, remove characters in chars instead.\n",
      " |  \n",
      " |  partition(self, sep, /)\n",
      " |      Partition the string into three parts using the given separator.\n",
      " |      \n",
      " |      This will search for the separator in the string.  If the separator is found,\n",
      " |      returns a 3-tuple containing the part before the separator, the separator\n",
      " |      itself, and the part after it.\n",
      " |      \n",
      " |      If the separator is not found, returns a 3-tuple containing the original string\n",
      " |      and two empty strings.\n",
      " |  \n",
      " |  removeprefix(self, prefix, /)\n",
      " |      Return a str with the given prefix string removed if present.\n",
      " |      \n",
      " |      If the string starts with the prefix string, return string[len(prefix):].\n",
      " |      Otherwise, return a copy of the original string.\n",
      " |  \n",
      " |  removesuffix(self, suffix, /)\n",
      " |      Return a str with the given suffix string removed if present.\n",
      " |      \n",
      " |      If the string ends with the suffix string and that suffix is not empty,\n",
      " |      return string[:-len(suffix)]. Otherwise, return a copy of the original\n",
      " |      string.\n",
      " |  \n",
      " |  replace(self, old, new, count=-1, /)\n",
      " |      Return a copy with all occurrences of substring old replaced by new.\n",
      " |      \n",
      " |        count\n",
      " |          Maximum number of occurrences to replace.\n",
      " |          -1 (the default value) means replace all occurrences.\n",
      " |      \n",
      " |      If the optional argument count is given, only the first count occurrences are\n",
      " |      replaced.\n",
      " |  \n",
      " |  rfind(...)\n",
      " |      S.rfind(sub[, start[, end]]) -> int\n",
      " |      \n",
      " |      Return the highest index in S where substring sub is found,\n",
      " |      such that sub is contained within S[start:end].  Optional\n",
      " |      arguments start and end are interpreted as in slice notation.\n",
      " |      \n",
      " |      Return -1 on failure.\n",
      " |  \n",
      " |  rindex(...)\n",
      " |      S.rindex(sub[, start[, end]]) -> int\n",
      " |      \n",
      " |      Return the highest index in S where substring sub is found,\n",
      " |      such that sub is contained within S[start:end].  Optional\n",
      " |      arguments start and end are interpreted as in slice notation.\n",
      " |      \n",
      " |      Raises ValueError when the substring is not found.\n",
      " |  \n",
      " |  rjust(self, width, fillchar=' ', /)\n",
      " |      Return a right-justified string of length width.\n",
      " |      \n",
      " |      Padding is done using the specified fill character (default is a space).\n",
      " |  \n",
      " |  rpartition(self, sep, /)\n",
      " |      Partition the string into three parts using the given separator.\n",
      " |      \n",
      " |      This will search for the separator in the string, starting at the end. If\n",
      " |      the separator is found, returns a 3-tuple containing the part before the\n",
      " |      separator, the separator itself, and the part after it.\n",
      " |      \n",
      " |      If the separator is not found, returns a 3-tuple containing two empty strings\n",
      " |      and the original string.\n",
      " |  \n",
      " |  rsplit(self, /, sep=None, maxsplit=-1)\n",
      " |      Return a list of the substrings in the string, using sep as the separator string.\n",
      " |      \n",
      " |        sep\n",
      " |          The separator used to split the string.\n",
      " |      \n",
      " |          When set to None (the default value), will split on any whitespace\n",
      " |          character (including \\\\n \\\\r \\\\t \\\\f and spaces) and will discard\n",
      " |          empty strings from the result.\n",
      " |        maxsplit\n",
      " |          Maximum number of splits (starting from the left).\n",
      " |          -1 (the default value) means no limit.\n",
      " |      \n",
      " |      Splitting starts at the end of the string and works to the front.\n",
      " |  \n",
      " |  rstrip(self, chars=None, /)\n",
      " |      Return a copy of the string with trailing whitespace removed.\n",
      " |      \n",
      " |      If chars is given and not None, remove characters in chars instead.\n",
      " |  \n",
      " |  split(self, /, sep=None, maxsplit=-1)\n",
      " |      Return a list of the substrings in the string, using sep as the separator string.\n",
      " |      \n",
      " |        sep\n",
      " |          The separator used to split the string.\n",
      " |      \n",
      " |          When set to None (the default value), will split on any whitespace\n",
      " |          character (including \\\\n \\\\r \\\\t \\\\f and spaces) and will discard\n",
      " |          empty strings from the result.\n",
      " |        maxsplit\n",
      " |          Maximum number of splits (starting from the left).\n",
      " |          -1 (the default value) means no limit.\n",
      " |      \n",
      " |      Note, str.split() is mainly useful for data that has been intentionally\n",
      " |      delimited.  With natural text that includes punctuation, consider using\n",
      " |      the regular expression module.\n",
      " |  \n",
      " |  splitlines(self, /, keepends=False)\n",
      " |      Return a list of the lines in the string, breaking at line boundaries.\n",
      " |      \n",
      " |      Line breaks are not included in the resulting list unless keepends is given and\n",
      " |      true.\n",
      " |  \n",
      " |  startswith(...)\n",
      " |      S.startswith(prefix[, start[, end]]) -> bool\n",
      " |      \n",
      " |      Return True if S starts with the specified prefix, False otherwise.\n",
      " |      With optional start, test S beginning at that position.\n",
      " |      With optional end, stop comparing S at that position.\n",
      " |      prefix can also be a tuple of strings to try.\n",
      " |  \n",
      " |  strip(self, chars=None, /)\n",
      " |      Return a copy of the string with leading and trailing whitespace removed.\n",
      " |      \n",
      " |      If chars is given and not None, remove characters in chars instead.\n",
      " |  \n",
      " |  swapcase(self, /)\n",
      " |      Convert uppercase characters to lowercase and lowercase characters to uppercase.\n",
      " |  \n",
      " |  title(self, /)\n",
      " |      Return a version of the string where each word is titlecased.\n",
      " |      \n",
      " |      More specifically, words start with uppercased characters and all remaining\n",
      " |      cased characters have lower case.\n",
      " |  \n",
      " |  translate(self, table, /)\n",
      " |      Replace each character in the string using the given translation table.\n",
      " |      \n",
      " |        table\n",
      " |          Translation table, which must be a mapping of Unicode ordinals to\n",
      " |          Unicode ordinals, strings, or None.\n",
      " |      \n",
      " |      The table must implement lookup/indexing via __getitem__, for instance a\n",
      " |      dictionary or list.  If this operation raises LookupError, the character is\n",
      " |      left untouched.  Characters mapped to None are deleted.\n",
      " |  \n",
      " |  upper(self, /)\n",
      " |      Return a copy of the string converted to uppercase.\n",
      " |  \n",
      " |  zfill(self, width, /)\n",
      " |      Pad a numeric string with zeros on the left, to fill a field of the given width.\n",
      " |      \n",
      " |      The string is never truncated.\n",
      " |  \n",
      " |  ----------------------------------------------------------------------\n",
      " |  Static methods defined here:\n",
      " |  \n",
      " |  __new__(*args, **kwargs) from builtins.type\n",
      " |      Create and return a new object.  See help(type) for accurate signature.\n",
      " |  \n",
      " |  maketrans(...)\n",
      " |      Return a translation table usable for str.translate().\n",
      " |      \n",
      " |      If there is only one argument, it must be a dictionary mapping Unicode\n",
      " |      ordinals (integers) or characters to Unicode ordinals, strings or None.\n",
      " |      Character keys will be then converted to ordinals.\n",
      " |      If there are two arguments, they must be strings of equal length, and\n",
      " |      in the resulting dictionary, each character in x will be mapped to the\n",
      " |      character at the same position in y. If there is a third argument, it\n",
      " |      must be a string, whose characters will be mapped to None in the result.\n",
      "\n"
     ]
    }
   ],
   "source": [
    "help(str)"
   ]
  },
  {
   "cell_type": "code",
   "execution_count": 48,
   "id": "dc3397d5",
   "metadata": {},
   "outputs": [],
   "source": [
    "def minmax(data) :\n",
    "    min = data[0]\n",
    "    max = data[0]\n",
    "    \n",
    "    for number in data :\n",
    "        if number < min :\n",
    "            min = number\n",
    "        if number > max :\n",
    "            max = number\n",
    "            \n",
    "    print(\"minimum =\",min,\"maximum =\", max)"
   ]
  },
  {
   "cell_type": "code",
   "execution_count": 49,
   "id": "a2a0e764",
   "metadata": {},
   "outputs": [
    {
     "name": "stdout",
     "output_type": "stream",
     "text": [
      "23r \n",
      "12ef \n",
      "13r\n",
      "12f\n",
      "e\n",
      "12\n",
      "rf\n",
      "f\n",
      "1f\n",
      "rv\n",
      "1f\n",
      "r\n",
      "1f3\n",
      "r\n",
      "f1324\n",
      "23\n",
      "1\n",
      "5\n",
      "25\n",
      "1\n",
      "61\n",
      "\n",
      "7\n",
      "\n",
      "71\n",
      "1\n",
      "minimum = 1 maximum = 71\n"
     ]
    }
   ],
   "source": [
    "#4\n",
    "\n",
    "i = 0\n",
    "data = []\n",
    "while i < 10 :\n",
    "    \n",
    "    number = input()\n",
    "    removefp = number.replace('.','')\n",
    "    \n",
    "    if number.isdigit() == True :\n",
    "        data.append(int(number))\n",
    "        i += 1\n",
    "    elif removefp.isdigit() == True :\n",
    "        data.append(float(number))\n",
    "        i += 1    \n",
    "    else :\n",
    "        number = None\n",
    "        \n",
    "minmax(data)\n",
    "    \n",
    "\n"
   ]
  },
  {
   "cell_type": "code",
   "execution_count": 50,
   "id": "6e430933",
   "metadata": {},
   "outputs": [
    {
     "ename": "NameError",
     "evalue": "name 'Item1' is not defined",
     "output_type": "error",
     "traceback": [
      "\u001b[1;31m---------------------------------------------------------------------------\u001b[0m",
      "\u001b[1;31mNameError\u001b[0m                                 Traceback (most recent call last)",
      "Cell \u001b[1;32mIn[50], line 2\u001b[0m\n\u001b[0;32m      1\u001b[0m \u001b[38;5;66;03m#5\u001b[39;00m\n\u001b[1;32m----> 2\u001b[0m a_dict \u001b[38;5;241m=\u001b[39m {\u001b[43mItem1\u001b[49m : \u001b[38;5;241m45.50\u001b[39m, Item2 : \u001b[38;5;241m35\u001b[39m, Item3 : \u001b[38;5;241m41.3\u001b[39m, Item4 :\u001b[38;5;241m29\u001b[39m, Item5 : \u001b[38;5;241m49.89\u001b[39m}\n\u001b[0;32m      3\u001b[0m help(\u001b[38;5;28mdict\u001b[39m)\n",
      "\u001b[1;31mNameError\u001b[0m: name 'Item1' is not defined"
     ]
    }
   ],
   "source": [
    "#5\n",
    "a_dict = {Item1 : 45.50, Item2 : 35, Item3 : 41.3, Item4 :29, Item5 : 49.89}\n",
    "help(dict)\n"
   ]
  },
  {
   "cell_type": "code",
   "execution_count": 53,
   "id": "15d6903c",
   "metadata": {},
   "outputs": [],
   "source": [
    "def add_dict() :\n",
    "    a_dict[field] = value"
   ]
  },
  {
   "cell_type": "code",
   "execution_count": 75,
   "id": "75d1c23d",
   "metadata": {},
   "outputs": [
    {
     "name": "stdout",
     "output_type": "stream",
     "text": [
      "Enter Field\n",
      "item1\n",
      "Enter Value\n",
      "351\n",
      "Enter Field\n",
      "item2\n",
      "Enter Value\n",
      "6931.3\n",
      "Enter Field\n",
      "item3\n",
      "Enter Value\n",
      "gs\n",
      "goep\n",
      "611\n",
      "Enter Field\n",
      "item4\n",
      "Enter Value\n",
      "4691.34\n",
      "Enter Field\n",
      "item5\n",
      "Enter Value\n",
      "12\n",
      "12\n",
      "6931.3\n"
     ]
    }
   ],
   "source": [
    "a_dict = {}\n",
    "i = 0\n",
    "\n",
    "\n",
    "while i < 5 :\n",
    "    check = False\n",
    "    print(\"Enter Field\")\n",
    "    field = input()\n",
    "    print(\"Enter Value\")\n",
    "    \n",
    "    while check == False :\n",
    "        value = input()\n",
    "        if value.replace('.','').isdigit() :\n",
    "            check = True\n",
    "            \n",
    "    add_dict()\n",
    "    i += 1\n",
    "print(min(a_dict.values()))\n",
    "print(max(a_dict.values()))\n",
    "a_dict"
   ]
  },
  {
   "cell_type": "code",
   "execution_count": 100,
   "id": "277162f1",
   "metadata": {},
   "outputs": [],
   "source": [
    "6#\n",
    "def f2(name,age,gender,occupation):\n",
    "    print(\"Name :\", name, \"\\nAge :\", age, \"\\nGender :\", gender, \"\\nOccupation :\", occupation)"
   ]
  },
  {
   "cell_type": "code",
   "execution_count": 101,
   "id": "1abd7748",
   "metadata": {},
   "outputs": [],
   "source": [
    "def f1():\n",
    "    print(\"Name\")\n",
    "    name = input()   \n",
    "    print(\"Age\")\n",
    "    age = int(input())\n",
    "    print(\"Gender\")\n",
    "    gender = input()\n",
    "    print(\"Occupation\")\n",
    "    occupation = input()\n",
    "    f2(name,age,gender,occupation)"
   ]
  },
  {
   "cell_type": "code",
   "execution_count": 102,
   "id": "ec3ad6a8",
   "metadata": {},
   "outputs": [
    {
     "name": "stdout",
     "output_type": "stream",
     "text": [
      "Name\n",
      "John\n",
      "Age\n",
      "51\n",
      "Gender\n",
      "Male\n",
      "Occupation\n",
      "Death\n",
      "Name : John \n",
      "Age : 51 \n",
      "Gender : Male \n",
      "Occupation : Death\n"
     ]
    }
   ],
   "source": [
    "f1()"
   ]
  },
  {
   "cell_type": "code",
   "execution_count": null,
   "id": "87905684",
   "metadata": {},
   "outputs": [],
   "source": [
    "7#\n",
    "color =\n",
    "[('black', 4), ('green', 1), ('red', 5), ('blue', 2), ('yellow', 3)]\n",
    "Create a user-defined function to sort the data in the above list in ascending order. \n",
    "The output after sorting should be as follows:\n",
    "[('green', 1), ('blue', 2), ('yellow', 3), ('black', 4), ('red', 5)]"
   ]
  },
  {
   "cell_type": "code",
   "execution_count": 112,
   "id": "47b0ba24",
   "metadata": {},
   "outputs": [],
   "source": [
    "def sort(color) :\n",
    "    for item in color"
   ]
  },
  {
   "cell_type": "code",
   "execution_count": 189,
   "id": "2d392a92",
   "metadata": {},
   "outputs": [
    {
     "data": {
      "text/plain": [
       "[('green', 1), ('blue', 2), ('yellow', 3), ('black', 4), ('red', 5)]"
      ]
     },
     "execution_count": 189,
     "metadata": {},
     "output_type": "execute_result"
    }
   ],
   "source": [
    "output = [] #god this code is wrong on so many levels. We are assuming that the data structure is like this and we \n",
    "# also assume that the numbers are sequential.\n",
    "color = [('black', 4), ('green', 1), ('red', 5), ('blue', 2), ('yellow', 3)]\n",
    "i = 0\n",
    "\n",
    "while i < len(color)+1 :\n",
    "    for item in color :\n",
    "        if item[1] == i :\n",
    "            output.append(item)\n",
    "    i+=1\n",
    "output"
   ]
  },
  {
   "cell_type": "code",
   "execution_count": 121,
   "id": "f221e452",
   "metadata": {},
   "outputs": [
    {
     "name": "stdout",
     "output_type": "stream",
     "text": [
      "Help on list object:\n",
      "\n",
      "class list(object)\n",
      " |  list(iterable=(), /)\n",
      " |  \n",
      " |  Built-in mutable sequence.\n",
      " |  \n",
      " |  If no argument is given, the constructor creates a new empty list.\n",
      " |  The argument must be an iterable if specified.\n",
      " |  \n",
      " |  Methods defined here:\n",
      " |  \n",
      " |  __add__(self, value, /)\n",
      " |      Return self+value.\n",
      " |  \n",
      " |  __contains__(self, key, /)\n",
      " |      Return key in self.\n",
      " |  \n",
      " |  __delitem__(self, key, /)\n",
      " |      Delete self[key].\n",
      " |  \n",
      " |  __eq__(self, value, /)\n",
      " |      Return self==value.\n",
      " |  \n",
      " |  __ge__(self, value, /)\n",
      " |      Return self>=value.\n",
      " |  \n",
      " |  __getattribute__(self, name, /)\n",
      " |      Return getattr(self, name).\n",
      " |  \n",
      " |  __getitem__(...)\n",
      " |      x.__getitem__(y) <==> x[y]\n",
      " |  \n",
      " |  __gt__(self, value, /)\n",
      " |      Return self>value.\n",
      " |  \n",
      " |  __iadd__(self, value, /)\n",
      " |      Implement self+=value.\n",
      " |  \n",
      " |  __imul__(self, value, /)\n",
      " |      Implement self*=value.\n",
      " |  \n",
      " |  __init__(self, /, *args, **kwargs)\n",
      " |      Initialize self.  See help(type(self)) for accurate signature.\n",
      " |  \n",
      " |  __iter__(self, /)\n",
      " |      Implement iter(self).\n",
      " |  \n",
      " |  __le__(self, value, /)\n",
      " |      Return self<=value.\n",
      " |  \n",
      " |  __len__(self, /)\n",
      " |      Return len(self).\n",
      " |  \n",
      " |  __lt__(self, value, /)\n",
      " |      Return self<value.\n",
      " |  \n",
      " |  __mul__(self, value, /)\n",
      " |      Return self*value.\n",
      " |  \n",
      " |  __ne__(self, value, /)\n",
      " |      Return self!=value.\n",
      " |  \n",
      " |  __repr__(self, /)\n",
      " |      Return repr(self).\n",
      " |  \n",
      " |  __reversed__(self, /)\n",
      " |      Return a reverse iterator over the list.\n",
      " |  \n",
      " |  __rmul__(self, value, /)\n",
      " |      Return value*self.\n",
      " |  \n",
      " |  __setitem__(self, key, value, /)\n",
      " |      Set self[key] to value.\n",
      " |  \n",
      " |  __sizeof__(self, /)\n",
      " |      Return the size of the list in memory, in bytes.\n",
      " |  \n",
      " |  append(self, object, /)\n",
      " |      Append object to the end of the list.\n",
      " |  \n",
      " |  clear(self, /)\n",
      " |      Remove all items from list.\n",
      " |  \n",
      " |  copy(self, /)\n",
      " |      Return a shallow copy of the list.\n",
      " |  \n",
      " |  count(self, value, /)\n",
      " |      Return number of occurrences of value.\n",
      " |  \n",
      " |  extend(self, iterable, /)\n",
      " |      Extend list by appending elements from the iterable.\n",
      " |  \n",
      " |  index(self, value, start=0, stop=9223372036854775807, /)\n",
      " |      Return first index of value.\n",
      " |      \n",
      " |      Raises ValueError if the value is not present.\n",
      " |  \n",
      " |  insert(self, index, object, /)\n",
      " |      Insert object before index.\n",
      " |  \n",
      " |  pop(self, index=-1, /)\n",
      " |      Remove and return item at index (default last).\n",
      " |      \n",
      " |      Raises IndexError if list is empty or index is out of range.\n",
      " |  \n",
      " |  remove(self, value, /)\n",
      " |      Remove first occurrence of value.\n",
      " |      \n",
      " |      Raises ValueError if the value is not present.\n",
      " |  \n",
      " |  reverse(self, /)\n",
      " |      Reverse *IN PLACE*.\n",
      " |  \n",
      " |  sort(self, /, *, key=None, reverse=False)\n",
      " |      Sort the list in ascending order and return None.\n",
      " |      \n",
      " |      The sort is in-place (i.e. the list itself is modified) and stable (i.e. the\n",
      " |      order of two equal elements is maintained).\n",
      " |      \n",
      " |      If a key function is given, apply it once to each list item and sort them,\n",
      " |      ascending or descending, according to their function values.\n",
      " |      \n",
      " |      The reverse flag can be set to sort in descending order.\n",
      " |  \n",
      " |  ----------------------------------------------------------------------\n",
      " |  Class methods defined here:\n",
      " |  \n",
      " |  __class_getitem__(...) from builtins.type\n",
      " |      See PEP 585\n",
      " |  \n",
      " |  ----------------------------------------------------------------------\n",
      " |  Static methods defined here:\n",
      " |  \n",
      " |  __new__(*args, **kwargs) from builtins.type\n",
      " |      Create and return a new object.  See help(type) for accurate signature.\n",
      " |  \n",
      " |  ----------------------------------------------------------------------\n",
      " |  Data and other attributes defined here:\n",
      " |  \n",
      " |  __hash__ = None\n",
      "\n"
     ]
    }
   ],
   "source": [
    "help(list)"
   ]
  },
  {
   "cell_type": "code",
   "execution_count": 44,
   "id": "e9fc461e",
   "metadata": {},
   "outputs": [
    {
     "ename": "SyntaxError",
     "evalue": "unmatched ')' (308489180.py, line 1)",
     "output_type": "error",
     "traceback": [
      "\u001b[1;36m  Cell \u001b[1;32mIn[44], line 1\u001b[1;36m\u001b[0m\n\u001b[1;33m    q8)a = [“Andy”, “Mandy”, “Sandy”]\u001b[0m\n\u001b[1;37m      ^\u001b[0m\n\u001b[1;31mSyntaxError\u001b[0m\u001b[1;31m:\u001b[0m unmatched ')'\n"
     ]
    }
   ],
   "source": [
    "q8)a = [“Andy”, “Mandy”, “Sandy”]\n",
    "b = [“Handy”, “Burgundy”, “Mandy”]\n",
    "Write a program to find the common element(s) in the two lists using Lambda expressions.\n",
    "Sample Input:\n",
    "    a = [“Ant”, “Cat”, “Mat”]\n",
    "    b = [“Bat”, “Hat”, “Ant”]\n",
    "Sample Output: [Ant]\n",
    "    \n"
   ]
  },
  {
   "cell_type": "code",
   "execution_count": 30,
   "id": "3ba9e24a",
   "metadata": {},
   "outputs": [],
   "source": [
    "a = [\"Andy\", \"Mandy\", \"Sandy\"]\n",
    "b = [\"Handy\", \"Burgundy\", \"Mandy\", \"Andy\"]\n"
   ]
  },
  {
   "cell_type": "code",
   "execution_count": 15,
   "id": "07b074de",
   "metadata": {},
   "outputs": [
    {
     "data": {
      "text/plain": [
       "['Andy', 'Mandy']"
      ]
     },
     "execution_count": 15,
     "metadata": {},
     "output_type": "execute_result"
    }
   ],
   "source": [
    "set_a = set(a)\n",
    "set_b = set(b)\n",
    "\n",
    "c = lambda x,y : x.intersection(y)\n",
    "list(c(set_a,set_b))\n"
   ]
  },
  {
   "cell_type": "code",
   "execution_count": 47,
   "id": "bfb4afd0",
   "metadata": {},
   "outputs": [
    {
     "data": {
      "text/plain": [
       "False"
      ]
     },
     "execution_count": 47,
     "metadata": {},
     "output_type": "execute_result"
    }
   ],
   "source": [
    "c = lambda x : x in a,b\n"
   ]
  },
  {
   "cell_type": "code",
   "execution_count": 49,
   "id": "965a4c2a",
   "metadata": {},
   "outputs": [
    {
     "name": "stdout",
     "output_type": "stream",
     "text": [
      "Help on class map in module builtins:\n",
      "\n",
      "class map(object)\n",
      " |  map(func, *iterables) --> map object\n",
      " |  \n",
      " |  Make an iterator that computes the function using arguments from\n",
      " |  each of the iterables.  Stops when the shortest iterable is exhausted.\n",
      " |  \n",
      " |  Methods defined here:\n",
      " |  \n",
      " |  __getattribute__(self, name, /)\n",
      " |      Return getattr(self, name).\n",
      " |  \n",
      " |  __iter__(self, /)\n",
      " |      Implement iter(self).\n",
      " |  \n",
      " |  __next__(self, /)\n",
      " |      Implement next(self).\n",
      " |  \n",
      " |  __reduce__(...)\n",
      " |      Return state information for pickling.\n",
      " |  \n",
      " |  ----------------------------------------------------------------------\n",
      " |  Static methods defined here:\n",
      " |  \n",
      " |  __new__(*args, **kwargs) from builtins.type\n",
      " |      Create and return a new object.  See help(type) for accurate signature.\n",
      "\n"
     ]
    }
   ],
   "source": [
    "help(map)"
   ]
  },
  {
   "cell_type": "code",
   "execution_count": 151,
   "id": "989fc1ed",
   "metadata": {},
   "outputs": [
    {
     "name": "stdout",
     "output_type": "stream",
     "text": [
      "15\n"
     ]
    }
   ],
   "source": [
    "x = lambda a : a + 10\n",
    "print(x(5))"
   ]
  },
  {
   "cell_type": "code",
   "execution_count": 157,
   "id": "7cee05ae",
   "metadata": {},
   "outputs": [
    {
     "name": "stdout",
     "output_type": "stream",
     "text": [
      "30\n"
     ]
    }
   ],
   "source": [
    "x = lambda a, b : a * b\n",
    "print(x(5, 6))"
   ]
  },
  {
   "cell_type": "code",
   "execution_count": 192,
   "id": "71b988e3",
   "metadata": {},
   "outputs": [
    {
     "name": "stdout",
     "output_type": "stream",
     "text": [
      "Help on class map in module builtins:\n",
      "\n",
      "class map(object)\n",
      " |  map(func, *iterables) --> map object\n",
      " |  \n",
      " |  Make an iterator that computes the function using arguments from\n",
      " |  each of the iterables.  Stops when the shortest iterable is exhausted.\n",
      " |  \n",
      " |  Methods defined here:\n",
      " |  \n",
      " |  __getattribute__(self, name, /)\n",
      " |      Return getattr(self, name).\n",
      " |  \n",
      " |  __iter__(self, /)\n",
      " |      Implement iter(self).\n",
      " |  \n",
      " |  __next__(self, /)\n",
      " |      Implement next(self).\n",
      " |  \n",
      " |  __reduce__(...)\n",
      " |      Return state information for pickling.\n",
      " |  \n",
      " |  ----------------------------------------------------------------------\n",
      " |  Static methods defined here:\n",
      " |  \n",
      " |  __new__(*args, **kwargs) from builtins.type\n",
      " |      Create and return a new object.  See help(type) for accurate signature.\n",
      "\n"
     ]
    }
   ],
   "source": [
    "help(map)"
   ]
  },
  {
   "cell_type": "markdown",
   "id": "f21d0b12",
   "metadata": {},
   "source": [
    "q9)c = [12,14,14]\n",
    "d = [17,16,17]\n",
    "Write a Python program to add each element of list c with the corresponding element of list d, \n",
    "using map function and Lambda expression. \n",
    "The output should be [29,30,31].\n",
    "c"
   ]
  },
  {
   "cell_type": "code",
   "execution_count": null,
   "id": "00ede56c",
   "metadata": {},
   "outputs": [],
   "source": []
  },
  {
   "cell_type": "code",
   "execution_count": 4,
   "id": "f25f9536",
   "metadata": {},
   "outputs": [
    {
     "name": "stdout",
     "output_type": "stream",
     "text": [
      "[29, 30, 31, 32]\n"
     ]
    }
   ],
   "source": [
    "c = [12,14,14,16]\n",
    "d = [17,16,17,16]\n",
    "e = map(lambda x, y : x + y, c, d)\n",
    "print(list(e))"
   ]
  },
  {
   "cell_type": "code",
   "execution_count": null,
   "id": "80a34cf7",
   "metadata": {},
   "outputs": [],
   "source": [
    "10#Develop a function that accepts the below mentioned date of birth and date of joining of an employee \n",
    "#and determines if the employee is over 18 years of age. \n",
    "#The function should accept dob and doj as two arguments and return True or False. \n",
    "dob=\"12-25-1991\"  #date of birth\n",
    "doj=  \"04-25-2020\" #date of joining the company \n",
    "The dates are in MM-DD-YYYY format.\n",
    "Hint: You are expected to only compare the year component in the dates to perform this task. Use the split() function in string. For example, \n",
    "parts_of_date = dob.split(\"-\")\n"
   ]
  },
  {
   "cell_type": "code",
   "execution_count": 82,
   "id": "4e2cdb6b",
   "metadata": {},
   "outputs": [],
   "source": [
    "def determine_age(dob,doj) :\n",
    "    split_dob = dob.split(\"-\")\n",
    "    split_doj = doj.split(\"-\")\n",
    "    dob_year = int(split_dob[2])\n",
    "    doj_year = int(split_doj[2])\n",
    "    age = doj_year - dob_year\n",
    "    if age >= 18 :\n",
    "        return True\n",
    "    else :\n",
    "        return False"
   ]
  },
  {
   "cell_type": "code",
   "execution_count": 83,
   "id": "d941f2b9",
   "metadata": {},
   "outputs": [
    {
     "data": {
      "text/plain": [
       "True"
      ]
     },
     "execution_count": 83,
     "metadata": {},
     "output_type": "execute_result"
    }
   ],
   "source": [
    "dob = \"12-25-1991\"\n",
    "doj = \"04-25-2020\"\n",
    "determine_age(dob, doj)"
   ]
  },
  {
   "cell_type": "code",
   "execution_count": 25,
   "id": "a7972430",
   "metadata": {},
   "outputs": [
    {
     "name": "stdout",
     "output_type": "stream",
     "text": [
      "[('black', 4), ('green', 1), ('red', 5), ('blue', 2), ('yellow', 3)]\n"
     ]
    }
   ],
   "source": [
    "data=[('black', 4), ('green', 1), ('red', 5), ('blue', 2), ('yellow', 3)]\n",
    "sorted_by_second = sorted(data, key=lambda tup: tup[1], reverse=False)\n",
    "print(data)"
   ]
  },
  {
   "cell_type": "code",
   "execution_count": 222,
   "id": "313fc68b",
   "metadata": {},
   "outputs": [
    {
     "name": "stdout",
     "output_type": "stream",
     "text": [
      "[('black', 4, 0.1), ('green', 1, 0.2), ('red', 5, 0.3), ('blue', 2, 0.4), ('yellow', 3, 0.5)]\n"
     ]
    }
   ],
   "source": [
    "data=[('black', 4,0.1), ('green', 1,0.2), ('red', 5,0.3), ('blue', 2,0.4), ('yellow', 3,0.5)]\n",
    "sorted_3 = sorted(data, key=lambda tup: tup[1], reverse=True)\n",
    "print(data)"
   ]
  },
  {
   "cell_type": "code",
   "execution_count": 260,
   "id": "33262cf1",
   "metadata": {},
   "outputs": [
    {
     "ename": "SyntaxError",
     "evalue": "invalid syntax (1210030023.py, line 1)",
     "output_type": "error",
     "traceback": [
      "\u001b[1;36m  Cell \u001b[1;32mIn[260], line 1\u001b[1;36m\u001b[0m\n\u001b[1;33m    Items in the store (just  4 items)\u001b[0m\n\u001b[1;37m                 ^\u001b[0m\n\u001b[1;31mSyntaxError\u001b[0m\u001b[1;31m:\u001b[0m invalid syntax\n"
     ]
    }
   ],
   "source": [
    "Items in the store (just  4 items) \n",
    "Chicken \n",
    "Biscuits\n",
    "Bread\n",
    "Milk\n",
    "\n",
    "Unit price \n",
    "Chicken : 10\n",
    "Biscuits : 2\n",
    "Bread : 3 \n",
    "Milk : 5 \n",
    "\n",
    "Quantity in stock\n",
    "Chicken : 30\n",
    "Biscuits : 25\n",
    "Bread : 40 \n",
    "Milk : 50 \n",
    "\n",
    "Shopping bill simulation \n",
    "---------------------------------\n",
    "Item_Ordered  Quantity_packets Unit_Price Sum \n",
    "Biscuits                  2                 2             2              4\n",
    "Chicken                  1                 1            10            10\n",
    "                                                                      Total 14.\n",
    "The program must update the stock of the items in the inventory and report out of stock to the user \n",
    "if they try to add it into the cart. \n",
    "The item and the quantity must be input by the user from the keyboard (using the input command) \n",
    "Develop a program to simulate the shopping bill generator problem. \n",
    "The program must continue to run in an infinite while loop and ask the user to continue shopping or quit. \n",
    "Make use of functions to add items into the cart and separate function to find the sum \n",
    "and return the total to generate a bill. \n",
    "\n",
    "Note : Store the details of items in the store using a list of dictionaries. \n"
   ]
  },
  {
   "cell_type": "code",
   "execution_count": 598,
   "id": "dca99e62",
   "metadata": {},
   "outputs": [],
   "source": [
    "Chicken = {\"Item Name\" : \"Chicken\", \"Unit Price\" : 10, \"Stock\" : 30}\n",
    "Biscuits = {\"Item Name\" : \"Biscuits\", \"Unit Price\" : 2, \"Stock\" : 25}\n",
    "Bread = {\"Item Name\" : \"Bread\", \"Unit Price\" : 3, \"Stock\" : 40}\n",
    "Milk = {\"Item Name\" : \"Milk\", \"Unit Price\" : 5, \"Stock\" : 30}\n",
    "Shop_Items = [Chicken, Biscuits, Bread, Milk]\n",
    "Shopping_List = []"
   ]
  },
  {
   "cell_type": "code",
   "execution_count": 599,
   "id": "9799e4e1",
   "metadata": {},
   "outputs": [],
   "source": [
    "def item_search (text) :\n",
    "    in_shop = False\n",
    "    i = 0\n",
    "    while i < len(Shop_Items) :\n",
    "        if Shop_Items[i][\"Item Name\"] == text :\n",
    "            in_shop = True      \n",
    "            return in_shop\n",
    "        i += 1\n",
    "    print(\"Item not found\")\n",
    "    return in_shop"
   ]
  },
  {
   "cell_type": "code",
   "execution_count": 600,
   "id": "cf4e8d34",
   "metadata": {},
   "outputs": [],
   "source": [
    "def add_item (text, quantity) :\n",
    "    i = 0\n",
    "    added = False\n",
    "    while i < len(Shop_Items) :\n",
    "        if Shop_Items[i]['Item Name'] == text and Shop_Items[i]['Stock'] >= quantity:\n",
    "                Shopping_List.append([Shop_Items[i]['Item Name'], quantity, Shop_Items[i]['Unit Price']])         \n",
    "                Shop_Items[i]['Stock'] -= quantity\n",
    "                added = True\n",
    "                break       \n",
    "        i += 1\n",
    "        \n",
    "    if added == False :\n",
    "        print(\"Not enough stock\")"
   ]
  },
  {
   "cell_type": "code",
   "execution_count": 601,
   "id": "ff44c915",
   "metadata": {},
   "outputs": [],
   "source": [
    "def list_organise(Shopping_List) :\n",
    "    \n",
    "    Shopping_List.sort()\n",
    "    temp = []\n",
    "    i = 0\n",
    "    while i < len(Shopping_List) - 1 :\n",
    "        if Shopping_List[i][0] == Shopping_List[i + 1][0] :\n",
    "            Shopping_List[i + 1][1] = Shopping_List[i + 1][1] + Shopping_List[i][1]\n",
    "            Shopping_List[i][1] = 0\n",
    "        i += 1\n",
    "    i = 0\n",
    "    while i < len(Shopping_List) :\n",
    "        if Shopping_List[i][1] != 0 :\n",
    "            temp.append(Shopping_List[i])\n",
    "        i += 1\n",
    "    print(temp)\n",
    "    Shopping_List = temp\n"
   ]
  },
  {
   "cell_type": "code",
   "execution_count": 602,
   "id": "eabafe09",
   "metadata": {},
   "outputs": [],
   "source": [
    "def calculate_bill() :\n",
    "    cost = 0\n",
    "    i = 0\n",
    "    \n",
    "    list_organise(Shopping_List)\n",
    "    \n",
    "    while i < len(Shopping_List) :\n",
    "        cost = cost + (Shopping_List[i][1] * Shopping_List[i][2])\n",
    "        i += 1\n",
    "        \n",
    "    print_list(Shopping_List)\n",
    "\n",
    "    print(\"{: >48}{: >4}\".format(\"Total\", cost))"
   ]
  },
  {
   "cell_type": "code",
   "execution_count": 603,
   "id": "bfc99288",
   "metadata": {},
   "outputs": [],
   "source": [
    "def print_list(Shopping_List) :\n",
    "    i = 0\n",
    "    print(\"{: <20} {: >10} {: >10} {: >10}\".format(\"Item_Ordered\",\"Quantity\",\"Unit_Price\",\"Sum\"))\n",
    "    while i < len(Shopping_List) :\n",
    "        print(\"{: <20} {: >10} {: >10} {: >10}\".format(Shopping_List[i][0], Shopping_List[i][1],  Shopping_List[i][2], int(Shopping_List[i][1])*int(Shopping_List[i][2])))\n",
    "        i += 1"
   ]
  },
  {
   "cell_type": "code",
   "execution_count": 604,
   "id": "7997f480",
   "metadata": {
    "scrolled": true
   },
   "outputs": [
    {
     "name": "stdout",
     "output_type": "stream",
     "text": [
      "Enter item / quit to escape\n",
      "bread\n",
      "Enter quantity\n",
      "1\n",
      "Enter item / quit to escape\n",
      "bread\n",
      "Enter quantity\n",
      "2\n",
      "Enter item / quit to escape\n",
      "chic\n",
      "Item not found\n",
      "Enter item / quit to escape\n",
      "chicken\n",
      "Enter quantity\n",
      "1\n",
      "Enter item / quit to escape\n",
      "chicken\n",
      "Enter quantity\n",
      "2\n",
      "Enter item / quit to escape\n",
      "quit\n",
      "[['Bread', 3, 3], ['Chicken', 3, 10]]\n",
      "Item_Ordered           Quantity Unit_Price        Sum\n",
      "Bread                         0          3          0\n",
      "Bread                         3          3          9\n",
      "Chicken                       0         10          0\n",
      "Chicken                       3         10         30\n",
      "                                           Total  39\n"
     ]
    }
   ],
   "source": [
    "quit = False\n",
    "while quit == False :\n",
    "    print(\"Enter item / quit to escape\")\n",
    "    text = input()\n",
    "    if text == \"quit\" :\n",
    "        quit = True\n",
    "        break\n",
    "    text = text.title()\n",
    "          \n",
    "    if item_search(text) :\n",
    "        print(\"Enter quantity\")\n",
    "        quantity = input()\n",
    "        if quantity.isdigit() == True :\n",
    "            quantity = int(quantity)\n",
    "        else :\n",
    "            quantity = int(0)\n",
    "\n",
    "        add_item(text, quantity)\n",
    "\n",
    "calculate_bill()"
   ]
  },
  {
   "cell_type": "code",
   "execution_count": 503,
   "id": "43e9080c",
   "metadata": {},
   "outputs": [
    {
     "name": "stdout",
     "output_type": "stream",
     "text": [
      "[['Bread', 1, 3], ['Bread', 2, 3], ['Bread', 3, 3]]\n"
     ]
    }
   ],
   "source": [
    "print(Shopping_List)"
   ]
  },
  {
   "cell_type": "code",
   "execution_count": 521,
   "id": "6f843482",
   "metadata": {},
   "outputs": [],
   "source": [
    "\n",
    " \n",
    "        "
   ]
  },
  {
   "cell_type": "code",
   "execution_count": 548,
   "id": "1ba41a15",
   "metadata": {},
   "outputs": [
    {
     "name": "stdout",
     "output_type": "stream",
     "text": [
      "[['Chicken', 6, 10]]\n",
      "[['Chicken', 6, 10]]\n"
     ]
    }
   ],
   "source": []
  },
  {
   "cell_type": "code",
   "execution_count": 479,
   "id": "6eb30823",
   "metadata": {},
   "outputs": [
    {
     "name": "stdout",
     "output_type": "stream",
     "text": [
      "Help on class list in module builtins:\n",
      "\n",
      "class list(object)\n",
      " |  list(iterable=(), /)\n",
      " |  \n",
      " |  Built-in mutable sequence.\n",
      " |  \n",
      " |  If no argument is given, the constructor creates a new empty list.\n",
      " |  The argument must be an iterable if specified.\n",
      " |  \n",
      " |  Methods defined here:\n",
      " |  \n",
      " |  __add__(self, value, /)\n",
      " |      Return self+value.\n",
      " |  \n",
      " |  __contains__(self, key, /)\n",
      " |      Return key in self.\n",
      " |  \n",
      " |  __delitem__(self, key, /)\n",
      " |      Delete self[key].\n",
      " |  \n",
      " |  __eq__(self, value, /)\n",
      " |      Return self==value.\n",
      " |  \n",
      " |  __ge__(self, value, /)\n",
      " |      Return self>=value.\n",
      " |  \n",
      " |  __getattribute__(self, name, /)\n",
      " |      Return getattr(self, name).\n",
      " |  \n",
      " |  __getitem__(...)\n",
      " |      x.__getitem__(y) <==> x[y]\n",
      " |  \n",
      " |  __gt__(self, value, /)\n",
      " |      Return self>value.\n",
      " |  \n",
      " |  __iadd__(self, value, /)\n",
      " |      Implement self+=value.\n",
      " |  \n",
      " |  __imul__(self, value, /)\n",
      " |      Implement self*=value.\n",
      " |  \n",
      " |  __init__(self, /, *args, **kwargs)\n",
      " |      Initialize self.  See help(type(self)) for accurate signature.\n",
      " |  \n",
      " |  __iter__(self, /)\n",
      " |      Implement iter(self).\n",
      " |  \n",
      " |  __le__(self, value, /)\n",
      " |      Return self<=value.\n",
      " |  \n",
      " |  __len__(self, /)\n",
      " |      Return len(self).\n",
      " |  \n",
      " |  __lt__(self, value, /)\n",
      " |      Return self<value.\n",
      " |  \n",
      " |  __mul__(self, value, /)\n",
      " |      Return self*value.\n",
      " |  \n",
      " |  __ne__(self, value, /)\n",
      " |      Return self!=value.\n",
      " |  \n",
      " |  __repr__(self, /)\n",
      " |      Return repr(self).\n",
      " |  \n",
      " |  __reversed__(self, /)\n",
      " |      Return a reverse iterator over the list.\n",
      " |  \n",
      " |  __rmul__(self, value, /)\n",
      " |      Return value*self.\n",
      " |  \n",
      " |  __setitem__(self, key, value, /)\n",
      " |      Set self[key] to value.\n",
      " |  \n",
      " |  __sizeof__(self, /)\n",
      " |      Return the size of the list in memory, in bytes.\n",
      " |  \n",
      " |  append(self, object, /)\n",
      " |      Append object to the end of the list.\n",
      " |  \n",
      " |  clear(self, /)\n",
      " |      Remove all items from list.\n",
      " |  \n",
      " |  copy(self, /)\n",
      " |      Return a shallow copy of the list.\n",
      " |  \n",
      " |  count(self, value, /)\n",
      " |      Return number of occurrences of value.\n",
      " |  \n",
      " |  extend(self, iterable, /)\n",
      " |      Extend list by appending elements from the iterable.\n",
      " |  \n",
      " |  index(self, value, start=0, stop=9223372036854775807, /)\n",
      " |      Return first index of value.\n",
      " |      \n",
      " |      Raises ValueError if the value is not present.\n",
      " |  \n",
      " |  insert(self, index, object, /)\n",
      " |      Insert object before index.\n",
      " |  \n",
      " |  pop(self, index=-1, /)\n",
      " |      Remove and return item at index (default last).\n",
      " |      \n",
      " |      Raises IndexError if list is empty or index is out of range.\n",
      " |  \n",
      " |  remove(self, value, /)\n",
      " |      Remove first occurrence of value.\n",
      " |      \n",
      " |      Raises ValueError if the value is not present.\n",
      " |  \n",
      " |  reverse(self, /)\n",
      " |      Reverse *IN PLACE*.\n",
      " |  \n",
      " |  sort(self, /, *, key=None, reverse=False)\n",
      " |      Sort the list in ascending order and return None.\n",
      " |      \n",
      " |      The sort is in-place (i.e. the list itself is modified) and stable (i.e. the\n",
      " |      order of two equal elements is maintained).\n",
      " |      \n",
      " |      If a key function is given, apply it once to each list item and sort them,\n",
      " |      ascending or descending, according to their function values.\n",
      " |      \n",
      " |      The reverse flag can be set to sort in descending order.\n",
      " |  \n",
      " |  ----------------------------------------------------------------------\n",
      " |  Class methods defined here:\n",
      " |  \n",
      " |  __class_getitem__(...) from builtins.type\n",
      " |      See PEP 585\n",
      " |  \n",
      " |  ----------------------------------------------------------------------\n",
      " |  Static methods defined here:\n",
      " |  \n",
      " |  __new__(*args, **kwargs) from builtins.type\n",
      " |      Create and return a new object.  See help(type) for accurate signature.\n",
      " |  \n",
      " |  ----------------------------------------------------------------------\n",
      " |  Data and other attributes defined here:\n",
      " |  \n",
      " |  __hash__ = None\n",
      "\n"
     ]
    }
   ],
   "source": [
    "help(list)"
   ]
  },
  {
   "cell_type": "code",
   "execution_count": 67,
   "id": "a14bc090",
   "metadata": {},
   "outputs": [],
   "source": [
    "#Q)\tWrite a user defined function to accept a number input from the user, using the input function.\n",
    "#The function should call another function which converts the number to a text and displays the numbers in text. \n",
    "\n",
    "def input_number() :\n",
    "    is_number = False\n",
    "    \n",
    "    while is_number == False :\n",
    "        \n",
    "        text = input()\n",
    "        if text.isdigit() == True :\n",
    "            is_number = True\n",
    "            text = int(text)\n",
    "            return text\n",
    "        else :\n",
    "            print(\"Not Digit\")"
   ]
  },
  {
   "cell_type": "code",
   "execution_count": 68,
   "id": "b24156d6",
   "metadata": {},
   "outputs": [],
   "source": [
    "def digit_to_list(text) :\n",
    "    \n",
    "    print(number)"
   ]
  },
  {
   "cell_type": "code",
   "execution_count": 70,
   "id": "a52be904",
   "metadata": {},
   "outputs": [
    {
     "name": "stdout",
     "output_type": "stream",
     "text": [
      "fgfg\n",
      "Not Digit\n",
      "drwr\n",
      "Not Digit\n",
      "151\n",
      "151\n"
     ]
    }
   ],
   "source": [
    "input_number()\n",
    "digit_to_list(text)"
   ]
  },
  {
   "cell_type": "code",
   "execution_count": 64,
   "id": "877089a2",
   "metadata": {},
   "outputs": [
    {
     "name": "stdout",
     "output_type": "stream",
     "text": [
      "151\n",
      "True\n"
     ]
    }
   ],
   "source": [
    "\n",
    "is_number = False\n",
    "    \n",
    "while is_number == False :\n",
    "        \n",
    "    text = input()\n",
    "    print(text.isdigit())\n",
    "    is_number = True"
   ]
  },
  {
   "cell_type": "code",
   "execution_count": null,
   "id": "3da558e8",
   "metadata": {},
   "outputs": [],
   "source": []
  }
 ],
 "metadata": {
  "kernelspec": {
   "display_name": "Python 3 (ipykernel)",
   "language": "python",
   "name": "python3"
  },
  "language_info": {
   "codemirror_mode": {
    "name": "ipython",
    "version": 3
   },
   "file_extension": ".py",
   "mimetype": "text/x-python",
   "name": "python",
   "nbconvert_exporter": "python",
   "pygments_lexer": "ipython3",
   "version": "3.10.9"
  }
 },
 "nbformat": 4,
 "nbformat_minor": 5
}
