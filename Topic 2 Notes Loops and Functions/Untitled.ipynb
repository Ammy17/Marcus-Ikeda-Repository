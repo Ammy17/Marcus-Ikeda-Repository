{
 "cells": [
  {
   "cell_type": "code",
   "execution_count": 84,
   "id": "d7b9c7b6",
   "metadata": {},
   "outputs": [
    {
     "data": {
      "text/plain": [
       "list_iterator"
      ]
     },
     "execution_count": 84,
     "metadata": {},
     "output_type": "execute_result"
    }
   ],
   "source": [
    "data = [1,2,3,4,5] #Iterator\n",
    "it = iter(data)\n",
    "type(it) # list iterator is a special type"
   ]
  },
  {
   "cell_type": "code",
   "execution_count": 85,
   "id": "dd9ea799",
   "metadata": {},
   "outputs": [
    {
     "data": {
      "text/plain": [
       "1"
      ]
     },
     "execution_count": 85,
     "metadata": {},
     "output_type": "execute_result"
    }
   ],
   "source": [
    "next(it)"
   ]
  },
  {
   "cell_type": "code",
   "execution_count": 86,
   "id": "dfea8da4",
   "metadata": {},
   "outputs": [
    {
     "data": {
      "text/plain": [
       "2"
      ]
     },
     "execution_count": 86,
     "metadata": {},
     "output_type": "execute_result"
    }
   ],
   "source": [
    "next(it)"
   ]
  },
  {
   "cell_type": "code",
   "execution_count": 87,
   "id": "92784c06",
   "metadata": {},
   "outputs": [
    {
     "data": {
      "text/plain": [
       "3"
      ]
     },
     "execution_count": 87,
     "metadata": {},
     "output_type": "execute_result"
    }
   ],
   "source": [
    "next(it)"
   ]
  },
  {
   "cell_type": "code",
   "execution_count": 88,
   "id": "49c54202",
   "metadata": {},
   "outputs": [
    {
     "data": {
      "text/plain": [
       "4"
      ]
     },
     "execution_count": 88,
     "metadata": {},
     "output_type": "execute_result"
    }
   ],
   "source": [
    "next(it)"
   ]
  },
  {
   "cell_type": "code",
   "execution_count": 89,
   "id": "e938456a",
   "metadata": {},
   "outputs": [
    {
     "data": {
      "text/plain": [
       "5"
      ]
     },
     "execution_count": 89,
     "metadata": {},
     "output_type": "execute_result"
    }
   ],
   "source": [
    "next(it)"
   ]
  },
  {
   "cell_type": "code",
   "execution_count": 90,
   "id": "3436371e",
   "metadata": {},
   "outputs": [
    {
     "ename": "StopIteration",
     "evalue": "",
     "output_type": "error",
     "traceback": [
      "\u001b[1;31m---------------------------------------------------------------------------\u001b[0m",
      "\u001b[1;31mStopIteration\u001b[0m                             Traceback (most recent call last)",
      "Cell \u001b[1;32mIn[90], line 1\u001b[0m\n\u001b[1;32m----> 1\u001b[0m \u001b[38;5;28;43mnext\u001b[39;49m\u001b[43m(\u001b[49m\u001b[43mit\u001b[49m\u001b[43m)\u001b[49m\n",
      "\u001b[1;31mStopIteration\u001b[0m: "
     ]
    }
   ],
   "source": [
    "next(it)\n",
    "#------------------------------------------------------------------------------------------------------------------------------"
   ]
  },
  {
   "cell_type": "code",
   "execution_count": 91,
   "id": "82b58146",
   "metadata": {},
   "outputs": [],
   "source": [
    "# Once the iterator reasches the end of the list, it needs to be re-initialized.\n",
    "it = iter(data)"
   ]
  },
  {
   "cell_type": "code",
   "execution_count": 92,
   "id": "631db50e",
   "metadata": {},
   "outputs": [
    {
     "name": "stdout",
     "output_type": "stream",
     "text": [
      "15\n"
     ]
    }
   ],
   "source": [
    "# Lambda functions (One line function definitions in Python)\n",
    "x = lambda a : a + 10 # x is the name of the function\n",
    "print(x(5))           # Calls the function\n",
    "\n",
    "# The function takes one parameter 'a' , Lambda functions are always one line functions\n",
    "# All Lambda functions return a value, without having to specify return."
   ]
  },
  {
   "cell_type": "code",
   "execution_count": 93,
   "id": "d1d1eb37",
   "metadata": {},
   "outputs": [
    {
     "name": "stdout",
     "output_type": "stream",
     "text": [
      "30\n"
     ]
    }
   ],
   "source": [
    "x = lambda a, b : a * b # function definition\n",
    "print(x(5,6))           # function call\n"
   ]
  },
  {
   "cell_type": "code",
   "execution_count": 94,
   "id": "8c904cde",
   "metadata": {},
   "outputs": [
    {
     "name": "stdout",
     "output_type": "stream",
     "text": [
      "13\n"
     ]
    }
   ],
   "source": [
    "x = lambda a, b, c : a + b + c\n",
    "print(x(5,6,2))"
   ]
  },
  {
   "cell_type": "code",
   "execution_count": 95,
   "id": "18eefa42",
   "metadata": {},
   "outputs": [],
   "source": [
    "#------------------------------------------------------------------------------------------------------------------------------"
   ]
  },
  {
   "cell_type": "code",
   "execution_count": 96,
   "id": "38e1f01e",
   "metadata": {},
   "outputs": [],
   "source": [
    "def multiplyNumbers(givenNumbers):\n",
    "    # returning number after multiplying with 3\n",
    "    return givenNumbers * 3\n",
    "# map() function applies the multiplyNumbers function for each element of the list"
   ]
  },
  {
   "cell_type": "code",
   "execution_count": 97,
   "id": "a2924f71",
   "metadata": {},
   "outputs": [
    {
     "name": "stdout",
     "output_type": "stream",
     "text": [
      "Multiplying list elements with 3:\n",
      "3\n",
      "9\n",
      "15\n",
      "6\n",
      "18\n",
      "30\n"
     ]
    }
   ],
   "source": [
    "givenNumbers = map(multiplyNumbers, [1, 3, 5, 2, 6, 10])\n",
    "# Printing the resultant list items\n",
    "print(\"Multiplying list elements with 3:\")\n",
    "for element in givenNumbers:\n",
    "    print(element)"
   ]
  },
  {
   "cell_type": "code",
   "execution_count": 98,
   "id": "371581a1",
   "metadata": {},
   "outputs": [],
   "source": [
    "# [1,2,3,4,5,6] -> map is a function -> [a new set of 6 items]\n",
    "#                 you have to tell the map function what to do"
   ]
  },
  {
   "cell_type": "code",
   "execution_count": 99,
   "id": "8609fc9f",
   "metadata": {},
   "outputs": [],
   "source": [
    "#Write a program using map functions to increment all numbers in a list by 1, the list contains numbers from 555 to 666\n",
    "def incrementNumbers(data) :\n",
    "    return data + 1\n"
   ]
  },
  {
   "cell_type": "code",
   "execution_count": 100,
   "id": "bcdb24e2",
   "metadata": {},
   "outputs": [
    {
     "name": "stdout",
     "output_type": "stream",
     "text": [
      "556\n",
      "557\n",
      "558\n",
      "559\n",
      "560\n"
     ]
    }
   ],
   "source": [
    "data = map(incrementNumbers, range (555,560))\n",
    "for number in data :\n",
    "    print(number)"
   ]
  },
  {
   "cell_type": "code",
   "execution_count": 101,
   "id": "479ef2a2",
   "metadata": {},
   "outputs": [
    {
     "name": "stdout",
     "output_type": "stream",
     "text": [
      "Help on class map in module builtins:\n",
      "\n",
      "class map(object)\n",
      " |  map(func, *iterables) --> map object\n",
      " |  \n",
      " |  Make an iterator that computes the function using arguments from\n",
      " |  each of the iterables.  Stops when the shortest iterable is exhausted.\n",
      " |  \n",
      " |  Methods defined here:\n",
      " |  \n",
      " |  __getattribute__(self, name, /)\n",
      " |      Return getattr(self, name).\n",
      " |  \n",
      " |  __iter__(self, /)\n",
      " |      Implement iter(self).\n",
      " |  \n",
      " |  __next__(self, /)\n",
      " |      Implement next(self).\n",
      " |  \n",
      " |  __reduce__(...)\n",
      " |      Return state information for pickling.\n",
      " |  \n",
      " |  ----------------------------------------------------------------------\n",
      " |  Static methods defined here:\n",
      " |  \n",
      " |  __new__(*args, **kwargs) from builtins.type\n",
      " |      Create and return a new object.  See help(type) for accurate signature.\n",
      "\n"
     ]
    }
   ],
   "source": [
    "help(map)"
   ]
  },
  {
   "cell_type": "code",
   "execution_count": 102,
   "id": "425a4249",
   "metadata": {},
   "outputs": [
    {
     "name": "stdout",
     "output_type": "stream",
     "text": [
      "556\n",
      "557\n",
      "558\n",
      "559\n",
      "560\n",
      "561\n",
      "562\n",
      "563\n",
      "564\n",
      "565\n",
      "566\n",
      "567\n",
      "568\n",
      "569\n",
      "570\n"
     ]
    }
   ],
   "source": [
    "# Solve the preivous question with a lambda function\n",
    "data = map(lambda a : a + 1, range (555,570))\n",
    "for number in data :\n",
    "    print(number)"
   ]
  },
  {
   "cell_type": "code",
   "execution_count": 103,
   "id": "3f4b287f",
   "metadata": {},
   "outputs": [
    {
     "ename": "TypeError",
     "evalue": "'range' object is not callable",
     "output_type": "error",
     "traceback": [
      "\u001b[1;31m---------------------------------------------------------------------------\u001b[0m",
      "\u001b[1;31mTypeError\u001b[0m                                 Traceback (most recent call last)",
      "Cell \u001b[1;32mIn[103], line 1\u001b[0m\n\u001b[1;32m----> 1\u001b[0m data \u001b[38;5;241m=\u001b[39m \u001b[38;5;28;43mlist\u001b[39;49m\u001b[43m(\u001b[49m\u001b[38;5;28;43mrange\u001b[39;49m\u001b[43m(\u001b[49m\u001b[38;5;241;43m555\u001b[39;49m\u001b[43m,\u001b[49m\u001b[38;5;241;43m666\u001b[39;49m\u001b[43m)\u001b[49m\u001b[43m)\u001b[49m\n\u001b[0;32m      2\u001b[0m givenNumbers \u001b[38;5;241m=\u001b[39m \u001b[38;5;28mlist\u001b[39m(\u001b[38;5;28mmap\u001b[39m(\u001b[38;5;28;01mlambda\u001b[39;00m a:a\u001b[38;5;241m+\u001b[39m\u001b[38;5;241m1\u001b[39m, data))\n\u001b[0;32m      3\u001b[0m \u001b[38;5;28mprint\u001b[39m(givenNumbers)\n",
      "\u001b[1;31mTypeError\u001b[0m: 'range' object is not callable"
     ]
    }
   ],
   "source": [
    "\n",
    "data = list(range(555,666))\n",
    "givenNumbers = list(map(lambda a:a+1, data))\n",
    "print(givenNumbers)"
   ]
  },
  {
   "cell_type": "code",
   "execution_count": 104,
   "id": "f2902acb",
   "metadata": {},
   "outputs": [],
   "source": [
    "#----------------------------------------------------------------------------------------------------------------------"
   ]
  },
  {
   "cell_type": "code",
   "execution_count": 67,
   "id": "112764b3",
   "metadata": {},
   "outputs": [],
   "source": [
    "# Filter Function\n",
    "\n",
    "# creating a function that returns the eligibility ages for voting from the\n",
    "list\n",
    "def votingAge(givenNumumber):\n",
    "   # checking whether the number is greater than or equal to 18\n",
    "   if givenNumumber>=18:\n",
    "      # returning number\n",
    "      return givenNumumber\n",
    "# input list\n"
   ]
  },
  {
   "cell_type": "code",
   "execution_count": 64,
   "id": "5ba1e995",
   "metadata": {},
   "outputs": [
    {
     "name": "stdout",
     "output_type": "stream",
     "text": [
      "None\n"
     ]
    }
   ],
   "source": [
    "print(votingAge(10)) # Less than 10 so doesnt return anything"
   ]
  },
  {
   "cell_type": "code",
   "execution_count": 79,
   "id": "2e7113de",
   "metadata": {},
   "outputs": [
    {
     "name": "stdout",
     "output_type": "stream",
     "text": [
      "<filter object at 0x000001F0DF5EA590>\n",
      "Eligibility ages for voting from the input list: <filter object at 0x000001F0DF5EA590>\n"
     ]
    }
   ],
   "source": [
    "\n",
    "inputList = [3, 20, 18, 6, 14, 25, 19]\n",
    "# Getting only values of above list which are greater than or equal to 18\n",
    "result_filterObj = filter(votingAge, inputList)\n",
    "# printing the filter object\n",
    "print(result_filterObj)\n",
    "# converting into a list\n",
    "print(\"Eligibility ages for voting from the input list:\", result_filterObj)"
   ]
  },
  {
   "cell_type": "code",
   "execution_count": 83,
   "id": "69b81b2d",
   "metadata": {},
   "outputs": [
    {
     "ename": "TypeError",
     "evalue": "'range' object is not callable",
     "output_type": "error",
     "traceback": [
      "\u001b[1;31m---------------------------------------------------------------------------\u001b[0m",
      "\u001b[1;31mTypeError\u001b[0m                                 Traceback (most recent call last)",
      "Cell \u001b[1;32mIn[83], line 13\u001b[0m\n\u001b[0;32m     10\u001b[0m inputList \u001b[38;5;241m=\u001b[39m [\u001b[38;5;241m3\u001b[39m, \u001b[38;5;241m20\u001b[39m, \u001b[38;5;241m18\u001b[39m, \u001b[38;5;241m6\u001b[39m, \u001b[38;5;241m14\u001b[39m, \u001b[38;5;241m25\u001b[39m, \u001b[38;5;241m19\u001b[39m]\n\u001b[0;32m     12\u001b[0m result_filterObj \u001b[38;5;241m=\u001b[39m (\u001b[38;5;28mfilter\u001b[39m(\u001b[38;5;28;01mlambda\u001b[39;00m a : a \u001b[38;5;241m>\u001b[39m\u001b[38;5;241m=\u001b[39m \u001b[38;5;241m18\u001b[39m, inputList))\n\u001b[1;32m---> 13\u001b[0m \u001b[38;5;28mprint\u001b[39m(\u001b[38;5;28;43mlist\u001b[39;49m\u001b[43m(\u001b[49m\u001b[43mresult_filterObj\u001b[49m\u001b[43m)\u001b[49m)\n",
      "\u001b[1;31mTypeError\u001b[0m: 'range' object is not callable"
     ]
    }
   ],
   "source": [
    "#How filter function works\n",
    "\n",
    "#filter() takes 2 arguments\n",
    "    # arg1 -> always a function (can be lambda or normal function)\n",
    "    # arg 2 -> Data which is used by argument 1\n",
    "\n",
    "# filter function is used when we was to filter an input based on condition\n",
    "\n",
    "#Redo the above program using lambda function\n",
    "inputList = [3, 20, 18, 6, 14, 25, 19]\n",
    "\n",
    "result_filterObj = (filter(lambda a : a >= 18, inputList))\n",
    "print(list(result_filterObj))\n"
   ]
  },
  {
   "cell_type": "code",
   "execution_count": null,
   "id": "82f7a93b",
   "metadata": {},
   "outputs": [],
   "source": []
  },
  {
   "cell_type": "code",
   "execution_count": null,
   "id": "99c8b320",
   "metadata": {},
   "outputs": [],
   "source": []
  }
 ],
 "metadata": {
  "kernelspec": {
   "display_name": "Python 3 (ipykernel)",
   "language": "python",
   "name": "python3"
  },
  "language_info": {
   "codemirror_mode": {
    "name": "ipython",
    "version": 3
   },
   "file_extension": ".py",
   "mimetype": "text/x-python",
   "name": "python",
   "nbconvert_exporter": "python",
   "pygments_lexer": "ipython3",
   "version": "3.10.9"
  }
 },
 "nbformat": 4,
 "nbformat_minor": 5
}
