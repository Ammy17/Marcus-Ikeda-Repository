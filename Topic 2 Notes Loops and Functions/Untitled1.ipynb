{
 "cells": [
  {
   "cell_type": "code",
   "execution_count": 2,
   "id": "8c9337bd",
   "metadata": {},
   "outputs": [
    {
     "name": "stdout",
     "output_type": "stream",
     "text": [
      "<filter object at 0x00000286BC16AF80>\n",
      "Eligibility ages for voting from the input list: [20, 18, 25, 19]\n"
     ]
    }
   ],
   "source": [
    "# creating a function that returns the eligibility ages for voting from the\n",
    "list\n",
    "def votingAge(givenNumumber):\n",
    "   # checking whether the number is greater than or equal to 18\n",
    "   if givenNumumber>=18:\n",
    "      # returning number\n",
    "      return givenNumumber\n",
    "# input list\n",
    "inputList = [3, 20, 18, 6, 14, 25, 19]\n",
    "# Getting only values of above list which are greater than or equal to 18\n",
    "result_filterObj = filter(votingAge, inputList)\n",
    "# printing the filter object\n",
    "print(result_filterObj)\n",
    "# converting into a list\n",
    "print(\"Eligibility ages for voting from the input list:\", list(result_filterObj))"
   ]
  },
  {
   "cell_type": "code",
   "execution_count": 1,
   "id": "29158931",
   "metadata": {},
   "outputs": [
    {
     "name": "stdout",
     "output_type": "stream",
     "text": [
      "[20, 18, 25, 19]\n"
     ]
    }
   ],
   "source": [
    "#How filter function works\n",
    "\n",
    "#filter() takes 2 arguments\n",
    "    # arg1 -> always a function (can be lambda or normal function)\n",
    "    # arg 2 -> Data which is used by argument 1\n",
    "\n",
    "# filter function is used when we was to filter an input based on condition\n",
    "\n",
    "#Redo the above program using lambda function\n",
    "inputList = [3, 20, 18, 6, 14, 25, 19]\n",
    "\n",
    "result_filterObj = (filter(lambda a : a >= 18, inputList))\n",
    "print(list(result_filterObj))"
   ]
  },
  {
   "cell_type": "code",
   "execution_count": 3,
   "id": "3ea5cadd",
   "metadata": {},
   "outputs": [
    {
     "name": "stdout",
     "output_type": "stream",
     "text": [
      "The sum of all list items:\n",
      "52\n"
     ]
    }
   ],
   "source": [
    "#reduce\n",
    "# importing reduce() function from functools module\n",
    "from functools import reduce\n",
    "# function that returns the sum of all list items\n",
    "def addNumbers(x, y):\n",
    "   return x+y\n",
    "# input list\n",
    "inputList = [12, 4, 10, 15, 6, 5]\n",
    "# Print the sum of the list items using reduce() function\n",
    "print(\"The sum of all list items:\")\n",
    "print(reduce(addNumbers, inputList))"
   ]
  },
  {
   "cell_type": "code",
   "execution_count": null,
   "id": "7c0de8f1",
   "metadata": {},
   "outputs": [],
   "source": [
    "# Reduce function -> reduce() takes 2 arguments\n",
    "    # arg1 -> akways a function\n",
    "    # arg2 -> Data used by arg1\n",
    "# bunch of inputs ->> reduce() -> produces only 1 output"
   ]
  }
 ],
 "metadata": {
  "kernelspec": {
   "display_name": "Python 3 (ipykernel)",
   "language": "python",
   "name": "python3"
  },
  "language_info": {
   "codemirror_mode": {
    "name": "ipython",
    "version": 3
   },
   "file_extension": ".py",
   "mimetype": "text/x-python",
   "name": "python",
   "nbconvert_exporter": "python",
   "pygments_lexer": "ipython3",
   "version": "3.10.9"
  }
 },
 "nbformat": 4,
 "nbformat_minor": 5
}
