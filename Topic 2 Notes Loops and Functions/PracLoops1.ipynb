{
 "cells": [
  {
   "cell_type": "markdown",
   "id": "776b31fb",
   "metadata": {},
   "source": []
  },
  {
   "cell_type": "code",
   "execution_count": 226,
   "id": "60c972a3",
   "metadata": {},
   "outputs": [
    {
     "name": "stdout",
     "output_type": "stream",
     "text": [
      "Odd\n"
     ]
    }
   ],
   "source": [
    "a = 5\n",
    "# How do I check if a is an even or odd number?\n",
    "# When you divide a number by 2, if the remainder is zeon, then it is an even number\n",
    "\n",
    "if (a%2 == 0) : \n",
    "    print(\"Even\")\n",
    "else:\n",
    "    print(\"Odd\")\n",
    "    "
   ]
  },
  {
   "cell_type": "code",
   "execution_count": 227,
   "id": "49aee347",
   "metadata": {},
   "outputs": [
    {
     "data": {
      "text/plain": [
       "True"
      ]
     },
     "execution_count": 227,
     "metadata": {},
     "output_type": "execute_result"
    }
   ],
   "source": [
    "l = [1,2,4,6,7]\n",
    "a = 2\n",
    "# How would you check if the value 2 is present in the above list l?\n",
    "\n",
    "a in l # \"in\" is the operator which youb would use to check\n"
   ]
  },
  {
   "cell_type": "code",
   "execution_count": 228,
   "id": "17f54ad3",
   "metadata": {},
   "outputs": [
    {
     "name": "stdout",
     "output_type": "stream",
     "text": [
      "Enter your name :\n",
      "Brian Damage\n"
     ]
    }
   ],
   "source": [
    "# How to accept an input from the user\n",
    "\n",
    "print(\"Enter your name :\")\n",
    "name = input() #input function prompts the user to enter data when the code is executed, you need to press the ENTER key once \n",
    "                # you are done entering the data"
   ]
  },
  {
   "cell_type": "code",
   "execution_count": 229,
   "id": "d052d5b6",
   "metadata": {},
   "outputs": [
    {
     "name": "stdout",
     "output_type": "stream",
     "text": [
      "Hi Brian Damage\n"
     ]
    }
   ],
   "source": [
    "print(\"Hi\", name)"
   ]
  },
  {
   "cell_type": "code",
   "execution_count": 230,
   "id": "6e684fa2",
   "metadata": {},
   "outputs": [
    {
     "data": {
      "text/plain": [
       "str"
      ]
     },
     "execution_count": 230,
     "metadata": {},
     "output_type": "execute_result"
    }
   ],
   "source": [
    "type(name)"
   ]
  },
  {
   "cell_type": "code",
   "execution_count": 231,
   "id": "53ad9a0f",
   "metadata": {},
   "outputs": [
    {
     "name": "stdout",
     "output_type": "stream",
     "text": [
      "FALSE\n"
     ]
    }
   ],
   "source": [
    "#In the list below, how would you check for the presence of the data item USA?\n",
    "\n",
    "mynames = [\"Joe\",\"Zoe\",\"world\",\"Brad\",\"Angelina\",\"world\",\"Zuki\",\"Tom\",\"Paris\",\"world\",\"magic\"]\n",
    "\n",
    "#The output should be \"TRUE\" if the data item USA is present and \"FALSE\" if not present.\n",
    "\n",
    "if \"USA\" in mynames == True :\n",
    "    print(\"TRUE\")\n",
    "else :\n",
    "    print(\"FALSE\")"
   ]
  },
  {
   "cell_type": "code",
   "execution_count": 232,
   "id": "81580c7d",
   "metadata": {},
   "outputs": [
    {
     "data": {
      "text/plain": [
       "3"
      ]
     },
     "execution_count": 232,
     "metadata": {},
     "output_type": "execute_result"
    }
   ],
   "source": [
    "#How would you identify the number of times the data item world is present in the following data?\n",
    "mynames = [\"Joe\",\"Zoe\",\"world\",\"Brad\",\"Angelina\",\"world\",\"Zuki\",\"Tom\",\"Paris\",\"world\",\"magic\"]\n",
    "mynames.count(\"world\")"
   ]
  },
  {
   "cell_type": "code",
   "execution_count": 233,
   "id": "08c0a467",
   "metadata": {},
   "outputs": [
    {
     "name": "stdout",
     "output_type": "stream",
     "text": [
      "Even numbers: 14   Odd numbers: 15\n"
     ]
    }
   ],
   "source": [
    "#Write a program to count the total number of even and odd numbers in the list defined below. \n",
    "numlist = list(range(1,30))\n",
    "even = 0\n",
    "odd = 0\n",
    "#The logic should be implemented using a single \"for\" loop.\n",
    "for number in numlist :\n",
    "    if number%2 == 0 :\n",
    "        even += 1\n",
    "    elif number %2 == 1 :\n",
    "        odd += 1\n",
    "print(\"Even numbers:\", even,\"  \" \"Odd numbers:\", odd)"
   ]
  },
  {
   "cell_type": "code",
   "execution_count": 234,
   "id": "64a855af",
   "metadata": {},
   "outputs": [
    {
     "name": "stdout",
     "output_type": "stream",
     "text": [
      "[2, 4, 6, 8, 10]\n"
     ]
    }
   ],
   "source": [
    "#Select the first 5 even numbers from numlist, store them in a new list, and display the contents of the new list.\n",
    "numlist = list(range(1,30))\n",
    "#Hint:\n",
    "el = [] # el is an empty list\n",
    "#Use the append() function to add elements to the new empty list.\n",
    "count = 0\n",
    "for number in numlist :\n",
    "    if number%2 == 0:\n",
    "        el.append(number)\n",
    "        count += 1\n",
    "    if count >= 5 :\n",
    "        break\n",
    "        \n",
    "print(el)"
   ]
  },
  {
   "cell_type": "code",
   "execution_count": 235,
   "id": "29179cc8",
   "metadata": {},
   "outputs": [
    {
     "name": "stdout",
     "output_type": "stream",
     "text": [
      "29\n",
      "27\n"
     ]
    }
   ],
   "source": [
    "#Print the last two odd numbers from numlist.\n",
    "numlist = list(range(1,30))\n",
    "\n",
    "count = 0\n",
    "negative_index = -1\n",
    "\n",
    "for number in numlist :\n",
    "    \n",
    "    if numlist[negative_index]%2 == 1 :\n",
    "        print(numlist[negative_index])\n",
    "        count += 1\n",
    "        \n",
    "    negative_index -= 1\n",
    "    \n",
    "    if count == 2 :\n",
    "        break"
   ]
  },
  {
   "cell_type": "code",
   "execution_count": 236,
   "id": "e9486496",
   "metadata": {},
   "outputs": [
    {
     "data": {
      "text/plain": [
       "29"
      ]
     },
     "execution_count": 236,
     "metadata": {},
     "output_type": "execute_result"
    }
   ],
   "source": [
    "numlist = list(range(1,30))\n",
    "len(numlist)"
   ]
  },
  {
   "cell_type": "code",
   "execution_count": 245,
   "id": "7f82cab7",
   "metadata": {},
   "outputs": [
    {
     "name": "stdout",
     "output_type": "stream",
     "text": [
      "5\n",
      "4\n",
      "3\n",
      "2\n",
      "e\n",
      "5\n",
      "4\n",
      "1\n",
      "['5', '4', '3', '2', 'e', '5', '4', '1']\n"
     ]
    }
   ],
   "source": [
    "#Create two empty lists, x and y. \n",
    "#Accept 5 strings from the user and store them in list x. \n",
    "#Accept 3 numbers from the user and store them in list y. \n",
    "#Append the contents of list y to the contents of list x and print the output.\n",
    "\n",
    "x = []\n",
    "y = []\n",
    "x_in = 0\n",
    "y_in = 0\n",
    "\n",
    "while x_in < 5 : # inputs for x\n",
    "    x.append(input())\n",
    "    x_in += 1\n",
    "\n",
    "while y_in < 3: #inputs for y\n",
    "    \n",
    "    y_text = input()  # change input to check if numberic\n",
    "    removed_point_y = y_text.replace(\".\",\"\")\n",
    "    \n",
    "    if removed_point_y.isnumeric() == True : # if numberic append to text otherwise ask for another input\n",
    "        y.append(y_text)\n",
    "        y_in += 1\n",
    "    \n",
    "x.extend(y) # merge lists\n",
    "    \n",
    "print(x)"
   ]
  },
  {
   "cell_type": "code",
   "execution_count": 238,
   "id": "cf0a2046",
   "metadata": {},
   "outputs": [
    {
     "name": "stdout",
     "output_type": "stream",
     "text": [
      "[0, 1, 4, 9, 16, 25, 36, 49, 64, 81, 100]\n",
      "[900, 961, 1024, 1089, 1156, 1225, 1296, 1369, 1444, 1521, 1600]\n"
     ]
    }
   ],
   "source": [
    "# 6##### Create two lists as defined below and print them one after the other.  \n",
    "# list_a = squares of all the numbers from 1 to 10 \n",
    "# list_b = squares of all the numbers from 30 to 40\n",
    "\n",
    "list_a = []\n",
    "list_b = []\n",
    "squares_a = []\n",
    "squares_b = []\n",
    "\n",
    "list_a = range(0,11)\n",
    "for number in list_a :\n",
    "    squares_a.append(number ** 2)\n",
    "print(squares_a)\n",
    "\n",
    "\n",
    "list_b = range(30,41)\n",
    "for number in list_b :\n",
    "    squares_b.append(number ** 2)\n",
    "print(squares_b)"
   ]
  },
  {
   "cell_type": "code",
   "execution_count": 239,
   "id": "29503d2c",
   "metadata": {},
   "outputs": [
    {
     "ename": "SyntaxError",
     "evalue": "invalid non-printable character U+00A0 (3070964768.py, line 4)",
     "output_type": "error",
     "traceback": [
      "\u001b[1;36m  Cell \u001b[1;32mIn[239], line 4\u001b[1;36m\u001b[0m\n\u001b[1;33m    \u001b[0m\n\u001b[1;37m    ^\u001b[0m\n\u001b[1;31mSyntaxError\u001b[0m\u001b[1;31m:\u001b[0m invalid non-printable character U+00A0\n"
     ]
    }
   ],
   "source": [
    "# Accept a positive integer from the user. \n",
    "# Print the multiplication table of the integer using the \"for\"  loop and the range() function.\n",
    "\n",
    " \n",
    "\n",
    "#Sample input: 5\n",
    "\n",
    "#Sample output:\n",
    "\n",
    "#5 x 1  = 5\n",
    "\n",
    "#5 x 2  = 10\n",
    "\n",
    "#… … … …\n",
    "\n",
    "#5 x 10 = 50"
   ]
  },
  {
   "cell_type": "code",
   "execution_count": 240,
   "id": "4b945ce3",
   "metadata": {},
   "outputs": [
    {
     "name": "stdout",
     "output_type": "stream",
     "text": [
      "7\n",
      "7 * 1 = 7\n",
      "7 * 2 = 14\n",
      "7 * 3 = 21\n",
      "7 * 4 = 28\n",
      "7 * 5 = 35\n",
      "7 * 6 = 42\n",
      "7 * 7 = 49\n",
      "7 * 8 = 56\n",
      "7 * 9 = 63\n",
      "7 * 10 = 70\n",
      "7 * 11 = 77\n",
      "7 * 12 = 84\n",
      "7 * 13 = 91\n",
      "7 * 14 = 98\n",
      "7 * 15 = 105\n",
      "7 * 16 = 112\n",
      "7 * 17 = 119\n",
      "7 * 18 = 126\n",
      "7 * 19 = 133\n",
      "7 * 20 = 140\n"
     ]
    }
   ],
   "source": [
    "is_integer = False\n",
    "numbers = range(1,21)\n",
    "7\n",
    "while is_integer == False : ## Gets digit while checking the number is an integer\n",
    "    integer = input()\n",
    "    if integer.isdigit() :\n",
    "        is_integer == True\n",
    "        break\n",
    "        \n",
    "integer = int(integer)\n",
    "for i in numbers :\n",
    "    print(integer, \"*\", int(i), \"=\", integer * int(i))\n",
    "    type(int(i))"
   ]
  },
  {
   "cell_type": "code",
   "execution_count": 223,
   "id": "3ebb3ce1",
   "metadata": {},
   "outputs": [
    {
     "data": {
      "text/plain": [
       "int"
      ]
     },
     "execution_count": 223,
     "metadata": {},
     "output_type": "execute_result"
    }
   ],
   "source": [
    "type(integer)"
   ]
  },
  {
   "cell_type": "code",
   "execution_count": 241,
   "id": "602e69ba",
   "metadata": {},
   "outputs": [
    {
     "name": "stdout",
     "output_type": "stream",
     "text": [
      "Help on class list in module builtins:\n",
      "\n",
      "class list(object)\n",
      " |  list(iterable=(), /)\n",
      " |  \n",
      " |  Built-in mutable sequence.\n",
      " |  \n",
      " |  If no argument is given, the constructor creates a new empty list.\n",
      " |  The argument must be an iterable if specified.\n",
      " |  \n",
      " |  Methods defined here:\n",
      " |  \n",
      " |  __add__(self, value, /)\n",
      " |      Return self+value.\n",
      " |  \n",
      " |  __contains__(self, key, /)\n",
      " |      Return key in self.\n",
      " |  \n",
      " |  __delitem__(self, key, /)\n",
      " |      Delete self[key].\n",
      " |  \n",
      " |  __eq__(self, value, /)\n",
      " |      Return self==value.\n",
      " |  \n",
      " |  __ge__(self, value, /)\n",
      " |      Return self>=value.\n",
      " |  \n",
      " |  __getattribute__(self, name, /)\n",
      " |      Return getattr(self, name).\n",
      " |  \n",
      " |  __getitem__(...)\n",
      " |      x.__getitem__(y) <==> x[y]\n",
      " |  \n",
      " |  __gt__(self, value, /)\n",
      " |      Return self>value.\n",
      " |  \n",
      " |  __iadd__(self, value, /)\n",
      " |      Implement self+=value.\n",
      " |  \n",
      " |  __imul__(self, value, /)\n",
      " |      Implement self*=value.\n",
      " |  \n",
      " |  __init__(self, /, *args, **kwargs)\n",
      " |      Initialize self.  See help(type(self)) for accurate signature.\n",
      " |  \n",
      " |  __iter__(self, /)\n",
      " |      Implement iter(self).\n",
      " |  \n",
      " |  __le__(self, value, /)\n",
      " |      Return self<=value.\n",
      " |  \n",
      " |  __len__(self, /)\n",
      " |      Return len(self).\n",
      " |  \n",
      " |  __lt__(self, value, /)\n",
      " |      Return self<value.\n",
      " |  \n",
      " |  __mul__(self, value, /)\n",
      " |      Return self*value.\n",
      " |  \n",
      " |  __ne__(self, value, /)\n",
      " |      Return self!=value.\n",
      " |  \n",
      " |  __repr__(self, /)\n",
      " |      Return repr(self).\n",
      " |  \n",
      " |  __reversed__(self, /)\n",
      " |      Return a reverse iterator over the list.\n",
      " |  \n",
      " |  __rmul__(self, value, /)\n",
      " |      Return value*self.\n",
      " |  \n",
      " |  __setitem__(self, key, value, /)\n",
      " |      Set self[key] to value.\n",
      " |  \n",
      " |  __sizeof__(self, /)\n",
      " |      Return the size of the list in memory, in bytes.\n",
      " |  \n",
      " |  append(self, object, /)\n",
      " |      Append object to the end of the list.\n",
      " |  \n",
      " |  clear(self, /)\n",
      " |      Remove all items from list.\n",
      " |  \n",
      " |  copy(self, /)\n",
      " |      Return a shallow copy of the list.\n",
      " |  \n",
      " |  count(self, value, /)\n",
      " |      Return number of occurrences of value.\n",
      " |  \n",
      " |  extend(self, iterable, /)\n",
      " |      Extend list by appending elements from the iterable.\n",
      " |  \n",
      " |  index(self, value, start=0, stop=9223372036854775807, /)\n",
      " |      Return first index of value.\n",
      " |      \n",
      " |      Raises ValueError if the value is not present.\n",
      " |  \n",
      " |  insert(self, index, object, /)\n",
      " |      Insert object before index.\n",
      " |  \n",
      " |  pop(self, index=-1, /)\n",
      " |      Remove and return item at index (default last).\n",
      " |      \n",
      " |      Raises IndexError if list is empty or index is out of range.\n",
      " |  \n",
      " |  remove(self, value, /)\n",
      " |      Remove first occurrence of value.\n",
      " |      \n",
      " |      Raises ValueError if the value is not present.\n",
      " |  \n",
      " |  reverse(self, /)\n",
      " |      Reverse *IN PLACE*.\n",
      " |  \n",
      " |  sort(self, /, *, key=None, reverse=False)\n",
      " |      Sort the list in ascending order and return None.\n",
      " |      \n",
      " |      The sort is in-place (i.e. the list itself is modified) and stable (i.e. the\n",
      " |      order of two equal elements is maintained).\n",
      " |      \n",
      " |      If a key function is given, apply it once to each list item and sort them,\n",
      " |      ascending or descending, according to their function values.\n",
      " |      \n",
      " |      The reverse flag can be set to sort in descending order.\n",
      " |  \n",
      " |  ----------------------------------------------------------------------\n",
      " |  Class methods defined here:\n",
      " |  \n",
      " |  __class_getitem__(...) from builtins.type\n",
      " |      See PEP 585\n",
      " |  \n",
      " |  ----------------------------------------------------------------------\n",
      " |  Static methods defined here:\n",
      " |  \n",
      " |  __new__(*args, **kwargs) from builtins.type\n",
      " |      Create and return a new object.  See help(type) for accurate signature.\n",
      " |  \n",
      " |  ----------------------------------------------------------------------\n",
      " |  Data and other attributes defined here:\n",
      " |  \n",
      " |  __hash__ = None\n",
      "\n"
     ]
    }
   ],
   "source": []
  },
  {
   "cell_type": "code",
   "execution_count": null,
   "id": "08501e40",
   "metadata": {},
   "outputs": [],
   "source": []
  }
 ],
 "metadata": {
  "kernelspec": {
   "display_name": "Python 3 (ipykernel)",
   "language": "python",
   "name": "python3"
  },
  "language_info": {
   "codemirror_mode": {
    "name": "ipython",
    "version": 3
   },
   "file_extension": ".py",
   "mimetype": "text/x-python",
   "name": "python",
   "nbconvert_exporter": "python",
   "pygments_lexer": "ipython3",
   "version": "3.10.9"
  }
 },
 "nbformat": 4,
 "nbformat_minor": 5
}
