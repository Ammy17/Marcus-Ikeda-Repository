{
 "cells": [
  {
   "cell_type": "code",
   "execution_count": 23,
   "id": "af475344",
   "metadata": {},
   "outputs": [
    {
     "name": "stdout",
     "output_type": "stream",
     "text": [
      "34\n",
      "45\n",
      "There are 2 numbers in the data\n"
     ]
    }
   ],
   "source": [
    "data = [\"CBD\",\"Richmond\", \"Central\", 34, 45] # inintial variables\n",
    "count = 0\n",
    "\n",
    "for item in data :                           # Loop for dataset\n",
    "    if str(item).isdigit(): \n",
    "        print(item)\n",
    "        count += 1        \n",
    "\n",
    "if count != 0 :                              # Check for value\n",
    "    print(\"There are \" + str(count) + \" numbers in the data\")\n",
    "else :\n",
    "    print(\"There are no numbers in the data\")"
   ]
  },
  {
   "cell_type": "code",
   "execution_count": 29,
   "id": "22f06859",
   "metadata": {},
   "outputs": [
    {
     "name": "stdout",
     "output_type": "stream",
     "text": [
      "34\n",
      "45.1\n",
      "There are 2 numbers in the data\n"
     ]
    }
   ],
   "source": [
    "data = [\"CBD\",\"Richmond\", \"Central\", 34, 45.1] # inintial variables\n",
    "count = 0\n",
    "\n",
    "for item in data :                           # Loop for dataset\n",
    "    if(type(item) == int or type(item) == float):\n",
    "        print(item)\n",
    "        count += 1        \n",
    "\n",
    "if count != 0 :                              # Check for value\n",
    "    print(\"There are \" + str(count) + \" numbers in the data\")\n",
    "else :\n",
    "    print(\"There are no numbers in the data\")"
   ]
  },
  {
   "cell_type": "code",
   "execution_count": 39,
   "id": "91a7ad22",
   "metadata": {},
   "outputs": [
    {
     "name": "stdout",
     "output_type": "stream",
     "text": [
      "34\n",
      "45.1\n",
      "11.1\n",
      "23\n",
      "There are 2 integers in the data and 2 floats in the data\n"
     ]
    }
   ],
   "source": [
    "data = [\"CBD\",\"Richmond\", \"Central\", 34, 45.1, 11.1, 23, \"Yennora\"] # inintial variables\n",
    "count_int = 0\n",
    "count_float = 0\n",
    "\n",
    "for item in data :                           # Loop for dataset\n",
    "    if(type(item) == int):\n",
    "        print(item)\n",
    "        count_int += 1        \n",
    "    elif(type(item) == float):\n",
    "        print(item)\n",
    "        count_float += 1\n",
    "\n",
    "if count_int != 0 and count_float != 0 :  # Check for value\n",
    "    print(\"There are \" + str(count_int) + \" integers in the data and \" + str(count_float) + \" floats in the data\")\n",
    "elif count_int != 0 and count_float == 0 : \n",
    "    print(\"There are \" + str(count_int) + \" integers in the data and no floats in the data\")\n",
    "elif count_int == 0 and count_float != 0 :\n",
    "    print(\"There are no integers in the data and \" + str(count_float) + \" floats in the data\")        \n",
    "else :\n",
    "    print(\"There are no numbers in the data\")"
   ]
  },
  {
   "cell_type": "code",
   "execution_count": 41,
   "id": "a8441f6a",
   "metadata": {},
   "outputs": [
    {
     "data": {
      "text/plain": [
       "range(0, 8)"
      ]
     },
     "execution_count": 41,
     "metadata": {},
     "output_type": "execute_result"
    }
   ],
   "source": [
    "range(0,len(data))"
   ]
  },
  {
   "cell_type": "code",
   "execution_count": 90,
   "id": "3788fb4a",
   "metadata": {},
   "outputs": [
    {
     "name": "stdout",
     "output_type": "stream",
     "text": [
      "Sydney\n",
      "Perth\n",
      "Melbon\n"
     ]
    }
   ],
   "source": [
    "list = [\"Sydney\", \"Perth\", \"Melbon\"]\n",
    "for city in list:\n",
    "    print(city)"
   ]
  },
  {
   "cell_type": "code",
   "execution_count": 93,
   "id": "733e2f1b",
   "metadata": {},
   "outputs": [
    {
     "name": "stdout",
     "output_type": "stream",
     "text": [
      "length of the list l is  4\n",
      "hi is type <class 'str'>\n",
      "[1, 2, 3] is type <class 'list'>\n",
      "100 is type <class 'int'>\n",
      "{'tele': 'fake'} is type <class 'dict'>\n"
     ]
    }
   ],
   "source": [
    "l=[\"hi\",[1,2,3],100, {\"tele\" : \"fake\"}]\n",
    "print(\"length of the list l is \", len(l))\n",
    "for x in l:\n",
    "    print(x, \"is type\", str(type(x)))"
   ]
  },
  {
   "cell_type": "code",
   "execution_count": 91,
   "id": "f998653d",
   "metadata": {},
   "outputs": [
    {
     "name": "stdout",
     "output_type": "stream",
     "text": [
      "dict_items([('first_name', 'Terrance'), ('last_name', 'KOAR'), ('favorite_language', 'Python')])\n",
      "this is the key: first_name\n",
      "this is the value: Terrance \n",
      "\n",
      "this is the key: last_name\n",
      "this is the value: KOAR \n",
      "\n",
      "this is the key: favorite_language\n",
      "this is the value: Python \n",
      "\n"
     ]
    }
   ],
   "source": [
    "example_dictionary = {'first_name': \"Terrance\", 'last_name': \"KOAR\", 'favorite_language': \"Python\"}\n",
    "print(example_dictionary.items())\n",
    "type(example_dictionary.items())\n",
    "\n",
    "for key, value in example_dictionary.items():\n",
    "    print(\"this is the key:\", key)    \n",
    "    print(\"this is the value:\", value, \"\\n\")"
   ]
  },
  {
   "cell_type": "code",
   "execution_count": 92,
   "id": "bff6324c",
   "metadata": {},
   "outputs": [
    {
     "name": "stdout",
     "output_type": "stream",
     "text": [
      "Terrance Koar\n"
     ]
    }
   ],
   "source": [
    "first_name = \"\"\n",
    "last_name = \"\"\n",
    "for key, value in example_dictionary.items():\n",
    "    if key == \"last_name\":\n",
    "        last_name = value.title()\n",
    "    if key == \"first_name\":\n",
    "        first_name = value\n",
    "print(first_name, last_name)"
   ]
  },
  {
   "cell_type": "code",
   "execution_count": 98,
   "id": "3b159834",
   "metadata": {},
   "outputs": [
    {
     "data": {
      "text/plain": [
       "[1, 2, 3, 4, 5]"
      ]
     },
     "execution_count": 98,
     "metadata": {},
     "output_type": "execute_result"
    }
   ],
   "source": [
    "el = []\n",
    "data = [1,2,3,4,5]\n",
    "\n",
    "for items in data:\n",
    "    el.append(data[items-1])\n",
    "el"
   ]
  },
  {
   "cell_type": "code",
   "execution_count": 99,
   "id": "014ffad4",
   "metadata": {},
   "outputs": [],
   "source": []
  },
  {
   "cell_type": "code",
   "execution_count": null,
   "id": "b7a9fdae",
   "metadata": {},
   "outputs": [],
   "source": []
  }
 ],
 "metadata": {
  "kernelspec": {
   "display_name": "saturn (Python 3)",
   "language": "python",
   "name": "python3"
  },
  "language_info": {
   "codemirror_mode": {
    "name": "ipython",
    "version": 3
   },
   "file_extension": ".py",
   "mimetype": "text/x-python",
   "name": "python",
   "nbconvert_exporter": "python",
   "pygments_lexer": "ipython3",
   "version": "3.10.8"
  }
 },
 "nbformat": 4,
 "nbformat_minor": 5
}
